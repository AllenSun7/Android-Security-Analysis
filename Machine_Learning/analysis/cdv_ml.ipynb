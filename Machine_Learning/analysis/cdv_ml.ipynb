{
 "cells": [
  {
   "cell_type": "code",
   "execution_count": 1,
   "id": "experimental-garlic",
   "metadata": {
    "ExecuteTime": {
     "end_time": "2021-05-03T22:51:18.657487Z",
     "start_time": "2021-05-03T22:51:17.654873Z"
    }
   },
   "outputs": [],
   "source": [
    "#import libraries\n",
    "import pandas as pd\n",
    "# import seaborn as sns\n",
    "import copy\n",
    "import numpy as np\n",
    "import matplotlib.pyplot as plt\n",
    "from sklearn import metrics\n",
    "from sklearn.preprocessing import LabelEncoder\n",
    "from sklearn.model_selection import train_test_split, cross_val_score, KFold\n",
    "from sklearn.metrics import confusion_matrix, classification_report, accuracy_score\n",
    "from collections import Counter"
   ]
  },
  {
   "cell_type": "code",
   "execution_count": 2,
   "id": "raised-infrastructure",
   "metadata": {
    "ExecuteTime": {
     "end_time": "2021-05-03T22:51:18.735455Z",
     "start_time": "2021-05-03T22:51:18.661581Z"
    }
   },
   "outputs": [
    {
     "data": {
      "text/html": [
       "<div>\n",
       "<style scoped>\n",
       "    .dataframe tbody tr th:only-of-type {\n",
       "        vertical-align: middle;\n",
       "    }\n",
       "\n",
       "    .dataframe tbody tr th {\n",
       "        vertical-align: top;\n",
       "    }\n",
       "\n",
       "    .dataframe thead th {\n",
       "        text-align: right;\n",
       "    }\n",
       "</style>\n",
       "<table border=\"1\" class=\"dataframe\">\n",
       "  <thead>\n",
       "    <tr style=\"text-align: right;\">\n",
       "      <th></th>\n",
       "      <th>apk_name</th>\n",
       "      <th>u_battery-status</th>\n",
       "      <th>u_camera</th>\n",
       "      <th>u_contacts</th>\n",
       "      <th>u_device</th>\n",
       "      <th>u_dialogs</th>\n",
       "      <th>u_file</th>\n",
       "      <th>u_geolocation</th>\n",
       "      <th>u_globalization</th>\n",
       "      <th>u_inappbrowser</th>\n",
       "      <th>...</th>\n",
       "      <th>android.permission.CHANGE_CONFIGURATION</th>\n",
       "      <th>android.permission.PACKAGE_USAGE_STATS</th>\n",
       "      <th>android.permission.SYSTEM_ALERT_WINDOW</th>\n",
       "      <th>android.permission.HIDE_OVERLAY_WINDOWS</th>\n",
       "      <th>dangerous</th>\n",
       "      <th>deprecated</th>\n",
       "      <th>normal</th>\n",
       "      <th>Not for use by third-party applications.</th>\n",
       "      <th>signature</th>\n",
       "      <th>class</th>\n",
       "    </tr>\n",
       "  </thead>\n",
       "  <tbody>\n",
       "    <tr>\n",
       "      <th>0</th>\n",
       "      <td>1</td>\n",
       "      <td>1</td>\n",
       "      <td>0</td>\n",
       "      <td>0</td>\n",
       "      <td>1</td>\n",
       "      <td>1</td>\n",
       "      <td>1</td>\n",
       "      <td>0</td>\n",
       "      <td>0</td>\n",
       "      <td>0</td>\n",
       "      <td>...</td>\n",
       "      <td>0</td>\n",
       "      <td>0</td>\n",
       "      <td>0</td>\n",
       "      <td>0</td>\n",
       "      <td>2</td>\n",
       "      <td>0</td>\n",
       "      <td>4</td>\n",
       "      <td>0</td>\n",
       "      <td>0</td>\n",
       "      <td>1</td>\n",
       "    </tr>\n",
       "    <tr>\n",
       "      <th>1</th>\n",
       "      <td>10</td>\n",
       "      <td>1</td>\n",
       "      <td>0</td>\n",
       "      <td>0</td>\n",
       "      <td>1</td>\n",
       "      <td>0</td>\n",
       "      <td>1</td>\n",
       "      <td>1</td>\n",
       "      <td>0</td>\n",
       "      <td>0</td>\n",
       "      <td>...</td>\n",
       "      <td>0</td>\n",
       "      <td>0</td>\n",
       "      <td>0</td>\n",
       "      <td>0</td>\n",
       "      <td>8</td>\n",
       "      <td>0</td>\n",
       "      <td>5</td>\n",
       "      <td>0</td>\n",
       "      <td>0</td>\n",
       "      <td>1</td>\n",
       "    </tr>\n",
       "    <tr>\n",
       "      <th>2</th>\n",
       "      <td>100</td>\n",
       "      <td>1</td>\n",
       "      <td>0</td>\n",
       "      <td>0</td>\n",
       "      <td>1</td>\n",
       "      <td>1</td>\n",
       "      <td>1</td>\n",
       "      <td>1</td>\n",
       "      <td>0</td>\n",
       "      <td>0</td>\n",
       "      <td>...</td>\n",
       "      <td>0</td>\n",
       "      <td>0</td>\n",
       "      <td>0</td>\n",
       "      <td>0</td>\n",
       "      <td>5</td>\n",
       "      <td>0</td>\n",
       "      <td>5</td>\n",
       "      <td>0</td>\n",
       "      <td>0</td>\n",
       "      <td>0</td>\n",
       "    </tr>\n",
       "    <tr>\n",
       "      <th>3</th>\n",
       "      <td>101</td>\n",
       "      <td>1</td>\n",
       "      <td>1</td>\n",
       "      <td>1</td>\n",
       "      <td>1</td>\n",
       "      <td>1</td>\n",
       "      <td>1</td>\n",
       "      <td>1</td>\n",
       "      <td>0</td>\n",
       "      <td>0</td>\n",
       "      <td>...</td>\n",
       "      <td>0</td>\n",
       "      <td>0</td>\n",
       "      <td>0</td>\n",
       "      <td>0</td>\n",
       "      <td>6</td>\n",
       "      <td>0</td>\n",
       "      <td>2</td>\n",
       "      <td>0</td>\n",
       "      <td>0</td>\n",
       "      <td>0</td>\n",
       "    </tr>\n",
       "    <tr>\n",
       "      <th>4</th>\n",
       "      <td>102</td>\n",
       "      <td>1</td>\n",
       "      <td>1</td>\n",
       "      <td>1</td>\n",
       "      <td>1</td>\n",
       "      <td>1</td>\n",
       "      <td>1</td>\n",
       "      <td>1</td>\n",
       "      <td>1</td>\n",
       "      <td>0</td>\n",
       "      <td>...</td>\n",
       "      <td>0</td>\n",
       "      <td>0</td>\n",
       "      <td>0</td>\n",
       "      <td>0</td>\n",
       "      <td>1</td>\n",
       "      <td>1</td>\n",
       "      <td>4</td>\n",
       "      <td>0</td>\n",
       "      <td>0</td>\n",
       "      <td>0</td>\n",
       "    </tr>\n",
       "    <tr>\n",
       "      <th>...</th>\n",
       "      <td>...</td>\n",
       "      <td>...</td>\n",
       "      <td>...</td>\n",
       "      <td>...</td>\n",
       "      <td>...</td>\n",
       "      <td>...</td>\n",
       "      <td>...</td>\n",
       "      <td>...</td>\n",
       "      <td>...</td>\n",
       "      <td>...</td>\n",
       "      <td>...</td>\n",
       "      <td>...</td>\n",
       "      <td>...</td>\n",
       "      <td>...</td>\n",
       "      <td>...</td>\n",
       "      <td>...</td>\n",
       "      <td>...</td>\n",
       "      <td>...</td>\n",
       "      <td>...</td>\n",
       "      <td>...</td>\n",
       "      <td>...</td>\n",
       "    </tr>\n",
       "    <tr>\n",
       "      <th>2653</th>\n",
       "      <td>za.co.snapplify.completecookery</td>\n",
       "      <td>1</td>\n",
       "      <td>0</td>\n",
       "      <td>0</td>\n",
       "      <td>1</td>\n",
       "      <td>0</td>\n",
       "      <td>1</td>\n",
       "      <td>0</td>\n",
       "      <td>0</td>\n",
       "      <td>0</td>\n",
       "      <td>...</td>\n",
       "      <td>0</td>\n",
       "      <td>0</td>\n",
       "      <td>0</td>\n",
       "      <td>0</td>\n",
       "      <td>1</td>\n",
       "      <td>1</td>\n",
       "      <td>5</td>\n",
       "      <td>0</td>\n",
       "      <td>1</td>\n",
       "      <td>0</td>\n",
       "    </tr>\n",
       "    <tr>\n",
       "      <th>2654</th>\n",
       "      <td>za.co.snapplify.garfield</td>\n",
       "      <td>1</td>\n",
       "      <td>0</td>\n",
       "      <td>0</td>\n",
       "      <td>1</td>\n",
       "      <td>0</td>\n",
       "      <td>1</td>\n",
       "      <td>0</td>\n",
       "      <td>0</td>\n",
       "      <td>0</td>\n",
       "      <td>...</td>\n",
       "      <td>0</td>\n",
       "      <td>0</td>\n",
       "      <td>0</td>\n",
       "      <td>0</td>\n",
       "      <td>1</td>\n",
       "      <td>1</td>\n",
       "      <td>5</td>\n",
       "      <td>0</td>\n",
       "      <td>1</td>\n",
       "      <td>0</td>\n",
       "    </tr>\n",
       "    <tr>\n",
       "      <th>2655</th>\n",
       "      <td>za.co.snapplify.lowveldliving</td>\n",
       "      <td>1</td>\n",
       "      <td>0</td>\n",
       "      <td>0</td>\n",
       "      <td>1</td>\n",
       "      <td>0</td>\n",
       "      <td>1</td>\n",
       "      <td>0</td>\n",
       "      <td>0</td>\n",
       "      <td>0</td>\n",
       "      <td>...</td>\n",
       "      <td>0</td>\n",
       "      <td>0</td>\n",
       "      <td>0</td>\n",
       "      <td>0</td>\n",
       "      <td>1</td>\n",
       "      <td>1</td>\n",
       "      <td>5</td>\n",
       "      <td>0</td>\n",
       "      <td>1</td>\n",
       "      <td>0</td>\n",
       "    </tr>\n",
       "    <tr>\n",
       "      <th>2656</th>\n",
       "      <td>za.co.snapplify.purpleturtle</td>\n",
       "      <td>1</td>\n",
       "      <td>0</td>\n",
       "      <td>0</td>\n",
       "      <td>1</td>\n",
       "      <td>0</td>\n",
       "      <td>1</td>\n",
       "      <td>0</td>\n",
       "      <td>0</td>\n",
       "      <td>0</td>\n",
       "      <td>...</td>\n",
       "      <td>0</td>\n",
       "      <td>0</td>\n",
       "      <td>0</td>\n",
       "      <td>0</td>\n",
       "      <td>1</td>\n",
       "      <td>1</td>\n",
       "      <td>5</td>\n",
       "      <td>0</td>\n",
       "      <td>1</td>\n",
       "      <td>0</td>\n",
       "    </tr>\n",
       "    <tr>\n",
       "      <th>2657</th>\n",
       "      <td>أشبال الفردوس_1.0.1</td>\n",
       "      <td>1</td>\n",
       "      <td>0</td>\n",
       "      <td>0</td>\n",
       "      <td>1</td>\n",
       "      <td>1</td>\n",
       "      <td>1</td>\n",
       "      <td>0</td>\n",
       "      <td>0</td>\n",
       "      <td>0</td>\n",
       "      <td>...</td>\n",
       "      <td>0</td>\n",
       "      <td>0</td>\n",
       "      <td>0</td>\n",
       "      <td>0</td>\n",
       "      <td>6</td>\n",
       "      <td>0</td>\n",
       "      <td>5</td>\n",
       "      <td>0</td>\n",
       "      <td>0</td>\n",
       "      <td>0</td>\n",
       "    </tr>\n",
       "  </tbody>\n",
       "</table>\n",
       "<p>2658 rows × 232 columns</p>\n",
       "</div>"
      ],
      "text/plain": [
       "                             apk_name  u_battery-status  u_camera  u_contacts  \\\n",
       "0                                   1                 1         0           0   \n",
       "1                                  10                 1         0           0   \n",
       "2                                 100                 1         0           0   \n",
       "3                                 101                 1         1           1   \n",
       "4                                 102                 1         1           1   \n",
       "...                               ...               ...       ...         ...   \n",
       "2653  za.co.snapplify.completecookery                 1         0           0   \n",
       "2654         za.co.snapplify.garfield                 1         0           0   \n",
       "2655    za.co.snapplify.lowveldliving                 1         0           0   \n",
       "2656     za.co.snapplify.purpleturtle                 1         0           0   \n",
       "2657             أشبال الفردوس_1.0.1                 1         0           0   \n",
       "\n",
       "      u_device  u_dialogs  u_file  u_geolocation  u_globalization  \\\n",
       "0            1          1       1              0                0   \n",
       "1            1          0       1              1                0   \n",
       "2            1          1       1              1                0   \n",
       "3            1          1       1              1                0   \n",
       "4            1          1       1              1                1   \n",
       "...        ...        ...     ...            ...              ...   \n",
       "2653         1          0       1              0                0   \n",
       "2654         1          0       1              0                0   \n",
       "2655         1          0       1              0                0   \n",
       "2656         1          0       1              0                0   \n",
       "2657         1          1       1              0                0   \n",
       "\n",
       "      u_inappbrowser  ...  android.permission.CHANGE_CONFIGURATION  \\\n",
       "0                  0  ...                                        0   \n",
       "1                  0  ...                                        0   \n",
       "2                  0  ...                                        0   \n",
       "3                  0  ...                                        0   \n",
       "4                  0  ...                                        0   \n",
       "...              ...  ...                                      ...   \n",
       "2653               0  ...                                        0   \n",
       "2654               0  ...                                        0   \n",
       "2655               0  ...                                        0   \n",
       "2656               0  ...                                        0   \n",
       "2657               0  ...                                        0   \n",
       "\n",
       "      android.permission.PACKAGE_USAGE_STATS  \\\n",
       "0                                          0   \n",
       "1                                          0   \n",
       "2                                          0   \n",
       "3                                          0   \n",
       "4                                          0   \n",
       "...                                      ...   \n",
       "2653                                       0   \n",
       "2654                                       0   \n",
       "2655                                       0   \n",
       "2656                                       0   \n",
       "2657                                       0   \n",
       "\n",
       "      android.permission.SYSTEM_ALERT_WINDOW  \\\n",
       "0                                          0   \n",
       "1                                          0   \n",
       "2                                          0   \n",
       "3                                          0   \n",
       "4                                          0   \n",
       "...                                      ...   \n",
       "2653                                       0   \n",
       "2654                                       0   \n",
       "2655                                       0   \n",
       "2656                                       0   \n",
       "2657                                       0   \n",
       "\n",
       "      android.permission.HIDE_OVERLAY_WINDOWS  dangerous  deprecated  normal  \\\n",
       "0                                           0          2           0       4   \n",
       "1                                           0          8           0       5   \n",
       "2                                           0          5           0       5   \n",
       "3                                           0          6           0       2   \n",
       "4                                           0          1           1       4   \n",
       "...                                       ...        ...         ...     ...   \n",
       "2653                                        0          1           1       5   \n",
       "2654                                        0          1           1       5   \n",
       "2655                                        0          1           1       5   \n",
       "2656                                        0          1           1       5   \n",
       "2657                                        0          6           0       5   \n",
       "\n",
       "      Not for use by third-party applications.  signature  class  \n",
       "0                                            0          0      1  \n",
       "1                                            0          0      1  \n",
       "2                                            0          0      0  \n",
       "3                                            0          0      0  \n",
       "4                                            0          0      0  \n",
       "...                                        ...        ...    ...  \n",
       "2653                                         0          1      0  \n",
       "2654                                         0          1      0  \n",
       "2655                                         0          1      0  \n",
       "2656                                         0          1      0  \n",
       "2657                                         0          0      0  \n",
       "\n",
       "[2658 rows x 232 columns]"
      ]
     },
     "execution_count": 2,
     "metadata": {},
     "output_type": "execute_result"
    }
   ],
   "source": [
    "#import data and view\n",
    "df = pd.read_csv(\"../db/cdv_FeatureSet_updated.csv\", skipinitialspace=True)\n",
    "df"
   ]
  },
  {
   "cell_type": "code",
   "execution_count": 3,
   "id": "limiting-whole",
   "metadata": {
    "ExecuteTime": {
     "end_time": "2021-05-03T22:51:18.739279Z",
     "start_time": "2021-05-03T22:51:18.737658Z"
    }
   },
   "outputs": [],
   "source": [
    "# df_pro = data_origin.drop(columns=[\"apk_name\"])\n",
    "# df_pro"
   ]
  },
  {
   "cell_type": "markdown",
   "id": "popular-montana",
   "metadata": {},
   "source": [
    "# Model"
   ]
  },
  {
   "cell_type": "code",
   "execution_count": 4,
   "id": "greater-preference",
   "metadata": {
    "ExecuteTime": {
     "end_time": "2021-05-03T22:51:32.947431Z",
     "start_time": "2021-05-03T22:51:18.741204Z"
    }
   },
   "outputs": [
    {
     "name": "stdout",
     "output_type": "stream",
     "text": [
      "====================================================================================================\n",
      "10-fold Cross Validation\n",
      "====================================================================================================\n",
      "\n",
      "\n",
      "======================================== 1/6 Naive Bayesian ========================================\n",
      "Training model...\n",
      "\n",
      "accuracy_scores:\n",
      " [0.38028169 0.37558685 0.39906103 0.40375587 0.38967136 0.37089202\n",
      " 0.40566038 0.39622642 0.36792453 0.38679245]\n",
      "f1_scores:\n",
      " [0.53846154 0.53658537 0.55244755 0.55123675 0.54545455 0.53472222\n",
      " 0.55       0.54929577 0.53146853 0.54545455]\n",
      "The mean accuracy: 0.388\n",
      "The mean f1 score: 0.544\n",
      "\n",
      "\n",
      "              precision    recall  f1-score   support\n",
      "\n",
      "           0       0.03      1.00      0.06        11\n",
      "           1       1.00      0.35      0.52       521\n",
      "\n",
      "    accuracy                           0.36       532\n",
      "   macro avg       0.52      0.67      0.29       532\n",
      "weighted avg       0.98      0.36      0.51       532\n",
      "\n",
      "====================================================================================================\n",
      "\n",
      "\n",
      "=================================== 2/6 Decision Tree Classifier ===================================\n",
      "Training model...\n",
      "\n",
      "accuracy_scores:\n",
      " [0.69953052 0.69483568 0.72769953 0.71830986 0.74178404 0.74647887\n",
      " 0.74056604 0.73584906 0.75943396 0.74528302]\n",
      "f1_scores:\n",
      " [0.57142857 0.57534247 0.60402685 0.59310345 0.625      0.64\n",
      " 0.57971014 0.62666667 0.63448276 0.63945578]\n",
      "The mean accuracy: 0.731\n",
      "The mean f1 score: 0.609\n",
      "\n",
      "\n",
      "              precision    recall  f1-score   support\n",
      "\n",
      "           0       0.89      0.81      0.85       388\n",
      "           1       0.59      0.74      0.65       144\n",
      "\n",
      "    accuracy                           0.79       532\n",
      "   macro avg       0.74      0.77      0.75       532\n",
      "weighted avg       0.81      0.79      0.79       532\n",
      "\n",
      "====================================================================================================\n",
      "\n",
      "\n",
      "===================================== 3/6 KNeighbors Classifier =====================================\n",
      "Training model...\n",
      "\n",
      "accuracy_scores:\n",
      " [0.7370892  0.72300469 0.69483568 0.75117371 0.75586854 0.75117371\n",
      " 0.71226415 0.6745283  0.74528302 0.72641509]\n",
      "f1_scores:\n",
      " [0.64556962 0.62420382 0.58598726 0.68263473 0.65789474 0.65806452\n",
      " 0.56115108 0.57668712 0.65822785 0.6627907 ]\n",
      "The mean accuracy: 0.727\n",
      "The mean f1 score: 0.631\n",
      "\n",
      "\n",
      "              precision    recall  f1-score   support\n",
      "\n",
      "           0       0.78      0.80      0.79       342\n",
      "           1       0.63      0.60      0.61       190\n",
      "\n",
      "    accuracy                           0.73       532\n",
      "   macro avg       0.71      0.70      0.70       532\n",
      "weighted avg       0.73      0.73      0.73       532\n",
      "\n",
      "====================================================================================================\n",
      "\n",
      "\n",
      "=================================== 4/6 Random Forest Classifier ===================================\n",
      "Training model...\n",
      "\n",
      "The accuracy: 0.780\n",
      "The f1 score: 0.629\n",
      "\n",
      "\n",
      "              precision    recall  f1-score   support\n",
      "\n",
      "           0       0.90      0.79      0.84       398\n",
      "           1       0.55      0.74      0.63       134\n",
      "\n",
      "    accuracy                           0.78       532\n",
      "   macro avg       0.72      0.77      0.74       532\n",
      "weighted avg       0.81      0.78      0.79       532\n",
      "\n",
      "====================================================================================================\n",
      "\n",
      "\n",
      "====================================== 5/6 Logistic Regression ======================================\n",
      "Training model...\n",
      "\n",
      "accuracy_scores:\n",
      " [0.7370892  0.71361502 0.7370892  0.78873239 0.76525822 0.7370892\n",
      " 0.76415094 0.74528302 0.76886792 0.74528302]\n",
      "f1_scores:\n",
      " [0.58208955 0.56737589 0.58823529 0.67153285 0.62686567 0.6056338\n",
      " 0.62121212 0.625      0.64748201 0.63013699]\n",
      "The mean accuracy: 0.750\n",
      "The mean f1 score: 0.617\n",
      "\n",
      "\n",
      "              precision    recall  f1-score   support\n",
      "\n",
      "           0       0.87      0.79      0.83       387\n",
      "           1       0.56      0.70      0.62       145\n",
      "\n",
      "    accuracy                           0.77       532\n",
      "   macro avg       0.72      0.74      0.73       532\n",
      "weighted avg       0.79      0.77      0.77       532\n",
      "\n",
      "====================================================================================================\n",
      "\n",
      "\n",
      "====================================== 6/6 AdaBoost Classifier ======================================\n",
      "Training model...\n",
      "\n",
      "accuracy_scores:\n",
      " [0.74647887 0.71830986 0.74647887 0.78873239 0.77464789 0.74178404\n",
      " 0.77830189 0.73113208 0.77830189 0.74528302]\n",
      "f1_scores:\n",
      " [0.59090909 0.57142857 0.60294118 0.67625899 0.63076923 0.61538462\n",
      " 0.63565891 0.60689655 0.65185185 0.625     ]\n",
      "The mean accuracy: 0.755\n",
      "The mean f1 score: 0.621\n",
      "\n",
      "\n",
      "              precision    recall  f1-score   support\n",
      "\n",
      "           0       0.85      0.78      0.81       383\n",
      "           1       0.54      0.65      0.59       149\n",
      "\n",
      "    accuracy                           0.74       532\n",
      "   macro avg       0.69      0.72      0.70       532\n",
      "weighted avg       0.76      0.74      0.75       532\n",
      "\n",
      "====================================================================================================\n",
      "\n",
      "\n"
     ]
    }
   ],
   "source": [
    "# import model training class from data_scikit_cv\n",
    "from data_scikit_cv import ModelsTraining \n",
    "label = \"class\"  # column for label\n",
    "drop_cols = [\"apk_name\"]  # irrelavent columns\n",
    "df_models = ModelsTraining(df, label, drop_cols)"
   ]
  },
  {
   "cell_type": "code",
   "execution_count": 5,
   "id": "rolled-postage",
   "metadata": {
    "ExecuteTime": {
     "end_time": "2021-05-03T22:51:32.951756Z",
     "start_time": "2021-05-03T22:51:32.949003Z"
    }
   },
   "outputs": [],
   "source": [
    "# Split data\n",
    "X = df_models.X\n",
    "y = df_models.y\n",
    "X_test = df_models.X_test\n",
    "y_test = df_models.y_test\n",
    "y_pred_ls = df_models.y_pred_ls\n",
    "model_ls = df_models.model_ls"
   ]
  },
  {
   "cell_type": "markdown",
   "id": "manufactured-oriental",
   "metadata": {},
   "source": [
    "# Result Visualization"
   ]
  },
  {
   "cell_type": "markdown",
   "id": "innovative-enlargement",
   "metadata": {
    "ExecuteTime": {
     "end_time": "2021-02-18T02:55:08.840807Z",
     "start_time": "2021-02-18T02:54:25.665087Z"
    }
   },
   "source": [
    "## Consfusion Matrix for the Classifier "
   ]
  },
  {
   "cell_type": "code",
   "execution_count": 6,
   "id": "artistic-implementation",
   "metadata": {
    "ExecuteTime": {
     "end_time": "2021-05-03T22:51:34.211858Z",
     "start_time": "2021-05-03T22:51:32.953398Z"
    }
   },
   "outputs": [
    {
     "data": {
      "text/plain": [
       "<Figure size 360x360 with 0 Axes>"
      ]
     },
     "metadata": {},
     "output_type": "display_data"
    },
    {
     "data": {
      "image/png": "[encoded data removed]",
      "text/plain": [
       "<Figure size 432x288 with 2 Axes>"
      ]
     },
     "metadata": {
      "needs_background": "light"
     },
     "output_type": "display_data"
    },
    {
     "data": {
      "text/plain": [
       "<Figure size 360x360 with 0 Axes>"
      ]
     },
     "metadata": {},
     "output_type": "display_data"
    },
    {
     "data": {
      "image/png": "[encoded data removed]",
      "text/plain": [
       "<Figure size 432x288 with 2 Axes>"
      ]
     },
     "metadata": {
      "needs_background": "light"
     },
     "output_type": "display_data"
    },
    {
     "data": {
      "text/plain": [
       "<Figure size 360x360 with 0 Axes>"
      ]
     },
     "metadata": {},
     "output_type": "display_data"
    },
    {
     "data": {
      "image/png": "[encoded data removed]",
      "text/plain": [
       "<Figure size 432x288 with 2 Axes>"
      ]
     },
     "metadata": {
      "needs_background": "light"
     },
     "output_type": "display_data"
    },
    {
     "data": {
      "text/plain": [
       "<Figure size 360x360 with 0 Axes>"
      ]
     },
     "metadata": {},
     "output_type": "display_data"
    },
    {
     "data": {
      "image/png": "[encoded data removed]",
      "text/plain": [
       "<Figure size 432x288 with 2 Axes>"
      ]
     },
     "metadata": {
      "needs_background": "light"
     },
     "output_type": "display_data"
    },
    {
     "data": {
      "text/plain": [
       "<Figure size 360x360 with 0 Axes>"
      ]
     },
     "metadata": {},
     "output_type": "display_data"
    },
    {
     "data": {
      "image/png": "[encoded data removed]",
      "text/plain": [
       "<Figure size 432x288 with 2 Axes>"
      ]
     },
     "metadata": {
      "needs_background": "light"
     },
     "output_type": "display_data"
    },
    {
     "data": {
      "text/plain": [
       "<Figure size 360x360 with 0 Axes>"
      ]
     },
     "metadata": {},
     "output_type": "display_data"
    },
    {
     "data": {
      "image/png": "[encoded data removed]",
      "text/plain": [
       "<Figure size 432x288 with 2 Axes>"
      ]
     },
     "metadata": {
      "needs_background": "light"
     },
     "output_type": "display_data"
    }
   ],
   "source": [
    "from sklearn.metrics import plot_confusion_matrix\n",
    "for name, clf in model_ls.items():\n",
    "#     print (\"The Confusion Matrix of: \", name)\n",
    "#     print (pd.DataFrame(confusion_matrix(y_test, y_pred)))\n",
    "    plt.figure(figsize=(5,5))\n",
    "    disp = plot_confusion_matrix(clf, X_test, y_test, cmap=plt.cm.Blues, normalize='true')\n",
    "    disp.ax_.set_title(\"The Confusion Matrix of: %s\" % name)\n",
    "    plt.show()"
   ]
  },
  {
   "cell_type": "code",
   "execution_count": 7,
   "id": "wired-declaration",
   "metadata": {
    "ExecuteTime": {
     "end_time": "2021-05-03T22:51:34.342183Z",
     "start_time": "2021-05-03T22:51:34.215613Z"
    }
   },
   "outputs": [
    {
     "data": {
      "text/html": [
       "<style  type=\"text/css\" >\n",
       "#T_80eec_row0_col1,#T_80eec_row0_col2{\n",
       "            background-color:  #f7fbff;\n",
       "            color:  #000000;\n",
       "        }#T_80eec_row1_col1{\n",
       "            background-color:  #08519c;\n",
       "            color:  #f1f1f1;\n",
       "        }#T_80eec_row1_col2{\n",
       "            background-color:  #2272b6;\n",
       "            color:  #f1f1f1;\n",
       "        }#T_80eec_row2_col1{\n",
       "            background-color:  #0a539e;\n",
       "            color:  #f1f1f1;\n",
       "        }#T_80eec_row2_col2,#T_80eec_row3_col1{\n",
       "            background-color:  #08306b;\n",
       "            color:  #f1f1f1;\n",
       "        }#T_80eec_row3_col2{\n",
       "            background-color:  #083877;\n",
       "            color:  #f1f1f1;\n",
       "        }#T_80eec_row4_col1{\n",
       "            background-color:  #084488;\n",
       "            color:  #f1f1f1;\n",
       "        }#T_80eec_row4_col2{\n",
       "            background-color:  #115ca5;\n",
       "            color:  #f1f1f1;\n",
       "        }#T_80eec_row5_col1{\n",
       "            background-color:  #084184;\n",
       "            color:  #f1f1f1;\n",
       "        }#T_80eec_row5_col2{\n",
       "            background-color:  #084f99;\n",
       "            color:  #f1f1f1;\n",
       "        }</style><table id=\"T_80eec_\" ><thead>    <tr>        <th class=\"blank level0\" ></th>        <th class=\"col_heading level0 col0\" >ML Models</th>        <th class=\"col_heading level0 col1\" >Accuracy</th>        <th class=\"col_heading level0 col2\" >F1-score</th>    </tr></thead><tbody>\n",
       "                <tr>\n",
       "                        <th id=\"T_80eec_level0_row0\" class=\"row_heading level0 row0\" >0</th>\n",
       "                        <td id=\"T_80eec_row0_col0\" class=\"data row0 col0\" >Naive Bayesian</td>\n",
       "                        <td id=\"T_80eec_row0_col1\" class=\"data row0 col1\" >0.387585</td>\n",
       "                        <td id=\"T_80eec_row0_col2\" class=\"data row0 col2\" >0.543513</td>\n",
       "            </tr>\n",
       "            <tr>\n",
       "                        <th id=\"T_80eec_level0_row1\" class=\"row_heading level0 row1\" >1</th>\n",
       "                        <td id=\"T_80eec_row1_col0\" class=\"data row1 col0\" >Decision Tree Classifier</td>\n",
       "                        <td id=\"T_80eec_row1_col1\" class=\"data row1 col1\" >0.730977</td>\n",
       "                        <td id=\"T_80eec_row1_col2\" class=\"data row1 col2\" >0.608922</td>\n",
       "            </tr>\n",
       "            <tr>\n",
       "                        <th id=\"T_80eec_level0_row2\" class=\"row_heading level0 row2\" >2</th>\n",
       "                        <td id=\"T_80eec_row2_col0\" class=\"data row2 col0\" >KNeighbors Classifier</td>\n",
       "                        <td id=\"T_80eec_row2_col1\" class=\"data row2 col1\" >0.727164</td>\n",
       "                        <td id=\"T_80eec_row2_col2\" class=\"data row2 col2\" >0.631321</td>\n",
       "            </tr>\n",
       "            <tr>\n",
       "                        <th id=\"T_80eec_level0_row3\" class=\"row_heading level0 row3\" >3</th>\n",
       "                        <td id=\"T_80eec_row3_col0\" class=\"data row3 col0\" >Random Forest Classifier</td>\n",
       "                        <td id=\"T_80eec_row3_col1\" class=\"data row3 col1\" >0.780075</td>\n",
       "                        <td id=\"T_80eec_row3_col2\" class=\"data row3 col2\" >0.628571</td>\n",
       "            </tr>\n",
       "            <tr>\n",
       "                        <th id=\"T_80eec_level0_row4\" class=\"row_heading level0 row4\" >4</th>\n",
       "                        <td id=\"T_80eec_row4_col0\" class=\"data row4 col0\" >Logistic Regression</td>\n",
       "                        <td id=\"T_80eec_row4_col1\" class=\"data row4 col1\" >0.750246</td>\n",
       "                        <td id=\"T_80eec_row4_col2\" class=\"data row4 col2\" >0.616556</td>\n",
       "            </tr>\n",
       "            <tr>\n",
       "                        <th id=\"T_80eec_level0_row5\" class=\"row_heading level0 row5\" >5</th>\n",
       "                        <td id=\"T_80eec_row5_col0\" class=\"data row5 col0\" >AdaBoost Classifier</td>\n",
       "                        <td id=\"T_80eec_row5_col1\" class=\"data row5 col1\" >0.754945</td>\n",
       "                        <td id=\"T_80eec_row5_col2\" class=\"data row5 col2\" >0.620710</td>\n",
       "            </tr>\n",
       "    </tbody></table>"
      ],
      "text/plain": [
       "<pandas.io.formats.style.Styler at 0x12f6d8460>"
      ]
     },
     "execution_count": 7,
     "metadata": {},
     "output_type": "execute_result"
    }
   ],
   "source": [
    "# df_models.confusion_matrix_visualization()\n",
    "accuracy_f1 = df_models.accuracy_f1()\n",
    "accuracy_f1.style.background_gradient(cmap='Blues')"
   ]
  },
  {
   "cell_type": "markdown",
   "id": "built-maintenance",
   "metadata": {},
   "source": [
    "## ROC Curve"
   ]
  },
  {
   "cell_type": "code",
   "execution_count": 8,
   "id": "norwegian-clarity",
   "metadata": {
    "ExecuteTime": {
     "end_time": "2021-05-03T22:51:34.346031Z",
     "start_time": "2021-05-03T22:51:34.343964Z"
    }
   },
   "outputs": [],
   "source": [
    "# df_models.accuracy_f1()"
   ]
  },
  {
   "cell_type": "code",
   "execution_count": 9,
   "id": "patient-ladder",
   "metadata": {
    "ExecuteTime": {
     "end_time": "2021-05-03T22:51:34.664768Z",
     "start_time": "2021-05-03T22:51:34.347480Z"
    }
   },
   "outputs": [
    {
     "data": {
      "image/png": "[encoded data removed]",
      "text/plain": [
       "<Figure size 720x576 with 1 Axes>"
      ]
     },
     "metadata": {
      "needs_background": "light"
     },
     "output_type": "display_data"
    }
   ],
   "source": [
    "# ROC Curve for the classification models\n",
    "\n",
    "from sklearn.metrics import roc_auc_score, roc_curve, auc\n",
    "import matplotlib.cm as cm\n",
    "import matplotlib.pyplot as plt\n",
    "from sklearn.preprocessing import label_binarize\n",
    "from numpy import interp\n",
    "\n",
    "# Setting the parameters for the ROC Curve\n",
    "plt.rcParams['figure.figsize'] = [10,8]\n",
    "plt.style.use(\"bmh\")\n",
    "color = cm.rainbow(np.linspace(0, 1, len(model_ls)))\n",
    "plt.title(\"ROC Curve\", fontsize = 15)\n",
    "plt.xlabel(\"Specificity (False Positive Rate)\", fontsize = 15)\n",
    "plt.ylabel(\"Sensitivity (True Positive Rate)\", fontsize = 15)\n",
    "labels = list()\n",
    "\n",
    "\n",
    "# Plot ROC Curve\n",
    "for c, (name, y_pred) in enumerate(y_pred_ls.items()):\n",
    "    \n",
    "    fpr, tpr, _ = roc_curve(y_test, y_pred)\n",
    "    roc_auc = auc(fpr, tpr)\n",
    "    plt.plot(fpr, tpr, color=color[c])\n",
    "    labels.append('{} (AUC={:.3f})'.format(name, roc_auc))\n",
    "  \n",
    "plt.gca().legend(labels, loc='lower right', frameon=True)    \n",
    "plt.plot([0,1],[0,1], linestyle='--', color='black')\n",
    "plt.show()"
   ]
  },
  {
   "cell_type": "markdown",
   "id": "universal-concentration",
   "metadata": {},
   "source": [
    "## Learning Curve"
   ]
  },
  {
   "cell_type": "code",
   "execution_count": 10,
   "id": "floppy-civilian",
   "metadata": {
    "ExecuteTime": {
     "end_time": "2021-05-03T22:51:34.669693Z",
     "start_time": "2021-05-03T22:51:34.666780Z"
    }
   },
   "outputs": [],
   "source": [
    "# import numpy as np\n",
    "# import matplotlib.pyplot as plt\n",
    "# from sklearn.model_selection import cross_validate\n",
    "# from sklearn.model_selection import learning_curve\n",
    "# from sklearn.model_selection import cross_val_score\n",
    "# from sklearn.model_selection import train_test_split\n",
    "# from sklearn.model_selection import ShuffleSplit\n",
    "\n",
    "# def plot_learning_curve(estimator, title, X, y, ylim=None, cv=None,\n",
    "#                         n_jobs=1, train_sizes=np.linspace(.1, 1.0, 5)):\n",
    "#     plt.figure()\n",
    "#     plt.title(title)\n",
    "#     if ylim is not None:\n",
    "#         plt.ylim(*ylim)\n",
    "#     plt.xlabel(\"Training examples\")\n",
    "#     plt.ylabel(\"Score\")\n",
    "#     train_sizes, train_scores, test_scores = learning_curve(\n",
    "#         estimator, X, y, cv=cv, n_jobs=n_jobs, train_sizes=train_sizes)\n",
    "#     train_scores_mean = np.mean(train_scores, axis=1)\n",
    "#     train_scores_std = np.std(train_scores, axis=1)\n",
    "#     test_scores_mean = np.mean(test_scores, axis=1)\n",
    "#     test_scores_std = np.std(test_scores, axis=1)\n",
    "#     plt.grid()\n",
    "\n",
    "#     plt.fill_between(train_sizes, train_scores_mean - train_scores_std,\n",
    "#                      train_scores_mean + train_scores_std, alpha=0.1,\n",
    "#                      color=\"r\")\n",
    "#     plt.fill_between(train_sizes, test_scores_mean - test_scores_std,\n",
    "#                      test_scores_mean + test_scores_std, alpha=0.1, color=\"g\")\n",
    "#     plt.plot(train_sizes, train_scores_mean, 'o-', color=\"r\",\n",
    "#              label=\"Training score\")\n",
    "#     plt.plot(train_sizes, test_scores_mean, 'o-', color=\"g\",\n",
    "#              label=\"Cross-validation score\")\n",
    "\n",
    "#     plt.legend(loc=\"best\")\n",
    "#     return plt\n",
    "\n",
    "\n",
    "# for name, model in model_ls.items():\n",
    "#     title = \"Learning Curves for \" + name\n",
    "#     cv=None\n",
    "# #     cv = ShuffleSplit(n_splits=100, test_size=0.2, random_state=0)\n",
    "#     plot_learning_curve(model, title, X, y, ylim=(0.2, 1.01), n_jobs=4)\n",
    "#     plt.show()"
   ]
  },
  {
   "cell_type": "code",
   "execution_count": null,
   "id": "handled-injection",
   "metadata": {},
   "outputs": [],
   "source": []
  },
  {
   "cell_type": "code",
   "execution_count": null,
   "id": "higher-growing",
   "metadata": {},
   "outputs": [],
   "source": []
  },
  {
   "cell_type": "code",
   "execution_count": null,
   "id": "renewable-lesbian",
   "metadata": {},
   "outputs": [],
   "source": []
  },
  {
   "cell_type": "code",
   "execution_count": null,
   "id": "promotional-machinery",
   "metadata": {},
   "outputs": [],
   "source": []
  },
  {
   "cell_type": "code",
   "execution_count": null,
   "id": "horizontal-northwest",
   "metadata": {},
   "outputs": [],
   "source": []
  },
  {
   "cell_type": "code",
   "execution_count": null,
   "id": "palestinian-machinery",
   "metadata": {},
   "outputs": [],
   "source": []
  }
 ],
 "metadata": {
  "kernelspec": {
   "display_name": "Python 3",
   "language": "python",
   "name": "python3"
  },
  "language_info": {
   "codemirror_mode": {
    "name": "ipython",
    "version": 3
   },
   "file_extension": ".py",
   "mimetype": "text/x-python",
   "name": "python",
   "nbconvert_exporter": "python",
   "pygments_lexer": "ipython3",
   "version": "3.8.2"
  },
  "toc": {
   "base_numbering": 1,
   "nav_menu": {},
   "number_sections": true,
   "sideBar": true,
   "skip_h1_title": false,
   "title_cell": "Table of Contents",
   "title_sidebar": "Contents",
   "toc_cell": false,
   "toc_position": {},
   "toc_section_display": true,
   "toc_window_display": true
  }
 },
 "nbformat": 4,
 "nbformat_minor": 5
}
