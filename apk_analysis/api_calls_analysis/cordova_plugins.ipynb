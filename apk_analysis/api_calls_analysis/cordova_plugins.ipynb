{
 "cells": [
  {
   "cell_type": "code",
   "execution_count": 1,
   "id": "retained-longitude",
   "metadata": {
    "ExecuteTime": {
     "end_time": "2021-03-04T16:35:06.390207Z",
     "start_time": "2021-03-04T16:35:05.949652Z"
    }
   },
   "outputs": [],
   "source": [
    "import numpy as np\n",
    "import pandas as pd\n",
    "from copy import deepcopy\n",
    "from cordova_plugins import d_plugins\n"
   ]
  },
  {
   "cell_type": "markdown",
   "id": "instructional-thursday",
   "metadata": {
    "ExecuteTime": {
     "end_time": "2021-03-01T03:20:07.934571Z",
     "start_time": "2021-03-01T03:20:07.932505Z"
    }
   },
   "source": [
    "# Import Dataset"
   ]
  },
  {
   "cell_type": "code",
   "execution_count": 2,
   "id": "permanent-programming",
   "metadata": {
    "ExecuteTime": {
     "end_time": "2021-03-04T16:35:06.430055Z",
     "start_time": "2021-03-04T16:35:06.392587Z"
    }
   },
   "outputs": [],
   "source": [
    "df_api = pd.read_csv(\"../db/cordova/cordova_feature_api.csv\")\n",
    "df_permission = pd.read_csv(\"../db/cordova/cordova_feature_permission.csv\")\n",
    "# df_feature = pd.read_csv(\"../db/fcordova/eatures.csv\")\n"
   ]
  },
  {
   "cell_type": "code",
   "execution_count": 3,
   "id": "focused-philip",
   "metadata": {
    "ExecuteTime": {
     "end_time": "2021-03-04T16:35:06.441758Z",
     "start_time": "2021-03-04T16:35:06.432283Z"
    }
   },
   "outputs": [
    {
     "data": {
      "text/plain": [
       "Index(['apk_name', 'getBattery', 'onlevelchange', 'updateBatteryStatus',\n",
       "       'onchargingchange', 'ondischargingtimechange', 'battery', 'getPicture',\n",
       "       'CameraOptions', 'PictureSourceType', 'PopoverArrowDirection',\n",
       "       'CameraPopoverHandle', 'CameraPopoverOptions', 'camera', 'device',\n",
       "       'deviceready', 'notification', 'notification.alert',\n",
       "       'notification.confirm', 'notification.prompt',\n",
       "       'notification.dismissAll', 'notification.dismissPrevious',\n",
       "       'notification.beep', 'dialogs', 'resolveLocalFileSystemURL',\n",
       "       'applicationDirectory', 'applicationStorageDirectory', 'dataDirectory',\n",
       "       'cacheDirectory', 'externalApplicationStorageDirectory',\n",
       "       'externalDataDirectory', 'externalCacheDirectory',\n",
       "       'externalRootDirectory', 'tempDirectory', 'syncedDataDirectory',\n",
       "       'documentsDirectory', 'sharedDirectory', 'file', 'geolocation',\n",
       "       'getCurrentPosition', 'watchPosition', 'clearWatch', 'InAppBrowser',\n",
       "       'getCurrentAmplitude', 'getDuration', 'play', 'pause', 'pauseRecord',\n",
       "       'release', 'resumeRecord', 'seekTo', 'setVolume', 'startRecord',\n",
       "       'stopRecord', 'stop', 'setRate', 'media', 'connection',\n",
       "       'checkConnection', 'onOnline', 'onOffline', 'network-information',\n",
       "       'orientation', 'screenLock', 'screenUnlock', 'orientationOnchange',\n",
       "       'orientationType', 'screen-orientation', 'splashscreen',\n",
       "       'splashscreenShow', 'splashscreenHide', 'statusbar',\n",
       "       'backgroundColorByHexString', 'overlaysWebView', 'styleDefault',\n",
       "       'styleLightContent', 'styleBlackTranslucent', 'styleBlackOpaque',\n",
       "       'backgroundColorByName', 'vibrate', 'vibration'],\n",
       "      dtype='object')"
      ]
     },
     "execution_count": 3,
     "metadata": {},
     "output_type": "execute_result"
    }
   ],
   "source": [
    "df_api.columns"
   ]
  },
  {
   "cell_type": "code",
   "execution_count": 4,
   "id": "retained-representation",
   "metadata": {
    "ExecuteTime": {
     "end_time": "2021-03-04T16:35:06.446440Z",
     "start_time": "2021-03-04T16:35:06.443626Z"
    }
   },
   "outputs": [],
   "source": [
    "l_api = list(df_api.columns)\n",
    "l_permission = df_permission.columns"
   ]
  },
  {
   "cell_type": "code",
   "execution_count": 5,
   "id": "center-template",
   "metadata": {
    "ExecuteTime": {
     "end_time": "2021-03-04T16:35:06.452442Z",
     "start_time": "2021-03-04T16:35:06.448160Z"
    }
   },
   "outputs": [
    {
     "data": {
      "text/plain": [
       "['apk_name',\n",
       " 'getBattery',\n",
       " 'onlevelchange',\n",
       " 'updateBatteryStatus',\n",
       " 'onchargingchange',\n",
       " 'ondischargingtimechange',\n",
       " 'battery',\n",
       " 'getPicture',\n",
       " 'CameraOptions',\n",
       " 'PictureSourceType',\n",
       " 'PopoverArrowDirection',\n",
       " 'CameraPopoverHandle',\n",
       " 'CameraPopoverOptions',\n",
       " 'camera',\n",
       " 'device',\n",
       " 'deviceready',\n",
       " 'notification',\n",
       " 'notification.alert',\n",
       " 'notification.confirm',\n",
       " 'notification.prompt',\n",
       " 'notification.dismissAll',\n",
       " 'notification.dismissPrevious',\n",
       " 'notification.beep',\n",
       " 'dialogs',\n",
       " 'resolveLocalFileSystemURL',\n",
       " 'applicationDirectory',\n",
       " 'applicationStorageDirectory',\n",
       " 'dataDirectory',\n",
       " 'cacheDirectory',\n",
       " 'externalApplicationStorageDirectory',\n",
       " 'externalDataDirectory',\n",
       " 'externalCacheDirectory',\n",
       " 'externalRootDirectory',\n",
       " 'tempDirectory',\n",
       " 'syncedDataDirectory',\n",
       " 'documentsDirectory',\n",
       " 'sharedDirectory',\n",
       " 'file',\n",
       " 'geolocation',\n",
       " 'getCurrentPosition',\n",
       " 'watchPosition',\n",
       " 'clearWatch',\n",
       " 'InAppBrowser',\n",
       " 'getCurrentAmplitude',\n",
       " 'getDuration',\n",
       " 'play',\n",
       " 'pause',\n",
       " 'pauseRecord',\n",
       " 'release',\n",
       " 'resumeRecord',\n",
       " 'seekTo',\n",
       " 'setVolume',\n",
       " 'startRecord',\n",
       " 'stopRecord',\n",
       " 'stop',\n",
       " 'setRate',\n",
       " 'media',\n",
       " 'connection',\n",
       " 'checkConnection',\n",
       " 'onOnline',\n",
       " 'onOffline',\n",
       " 'network-information',\n",
       " 'orientation',\n",
       " 'screenLock',\n",
       " 'screenUnlock',\n",
       " 'orientationOnchange',\n",
       " 'orientationType',\n",
       " 'screen-orientation',\n",
       " 'splashscreen',\n",
       " 'splashscreenShow',\n",
       " 'splashscreenHide',\n",
       " 'statusbar',\n",
       " 'backgroundColorByHexString',\n",
       " 'overlaysWebView',\n",
       " 'styleDefault',\n",
       " 'styleLightContent',\n",
       " 'styleBlackTranslucent',\n",
       " 'styleBlackOpaque',\n",
       " 'backgroundColorByName',\n",
       " 'vibrate',\n",
       " 'vibration']"
      ]
     },
     "execution_count": 5,
     "metadata": {},
     "output_type": "execute_result"
    }
   ],
   "source": [
    "l_api"
   ]
  },
  {
   "cell_type": "code",
   "execution_count": 6,
   "id": "national-violence",
   "metadata": {
    "ExecuteTime": {
     "end_time": "2021-03-04T16:35:06.456985Z",
     "start_time": "2021-03-04T16:35:06.454078Z"
    }
   },
   "outputs": [
    {
     "data": {
      "text/plain": [
       "False"
      ]
     },
     "execution_count": 6,
     "metadata": {},
     "output_type": "execute_result"
    }
   ],
   "source": [
    "\"successCallback\" in l_api"
   ]
  },
  {
   "cell_type": "code",
   "execution_count": 7,
   "id": "significant-begin",
   "metadata": {
    "ExecuteTime": {
     "end_time": "2021-03-04T16:35:06.484944Z",
     "start_time": "2021-03-04T16:35:06.459863Z"
    }
   },
   "outputs": [
    {
     "data": {
      "text/html": [
       "<div>\n",
       "<style scoped>\n",
       "    .dataframe tbody tr th:only-of-type {\n",
       "        vertical-align: middle;\n",
       "    }\n",
       "\n",
       "    .dataframe tbody tr th {\n",
       "        vertical-align: top;\n",
       "    }\n",
       "\n",
       "    .dataframe thead th {\n",
       "        text-align: right;\n",
       "    }\n",
       "</style>\n",
       "<table border=\"1\" class=\"dataframe\">\n",
       "  <thead>\n",
       "    <tr style=\"text-align: right;\">\n",
       "      <th></th>\n",
       "      <th>apk_name</th>\n",
       "      <th>getBattery</th>\n",
       "      <th>onlevelchange</th>\n",
       "      <th>updateBatteryStatus</th>\n",
       "      <th>onchargingchange</th>\n",
       "      <th>ondischargingtimechange</th>\n",
       "      <th>battery</th>\n",
       "      <th>getPicture</th>\n",
       "      <th>CameraOptions</th>\n",
       "      <th>PictureSourceType</th>\n",
       "      <th>...</th>\n",
       "      <th>statusbar</th>\n",
       "      <th>backgroundColorByHexString</th>\n",
       "      <th>overlaysWebView</th>\n",
       "      <th>styleDefault</th>\n",
       "      <th>styleLightContent</th>\n",
       "      <th>styleBlackTranslucent</th>\n",
       "      <th>styleBlackOpaque</th>\n",
       "      <th>backgroundColorByName</th>\n",
       "      <th>vibrate</th>\n",
       "      <th>vibration</th>\n",
       "    </tr>\n",
       "  </thead>\n",
       "  <tbody>\n",
       "    <tr>\n",
       "      <th>0</th>\n",
       "      <td>com.pr.ojectblue.dothis</td>\n",
       "      <td>0</td>\n",
       "      <td>0</td>\n",
       "      <td>0</td>\n",
       "      <td>0</td>\n",
       "      <td>0</td>\n",
       "      <td>0</td>\n",
       "      <td>0</td>\n",
       "      <td>0</td>\n",
       "      <td>0</td>\n",
       "      <td>...</td>\n",
       "      <td>0</td>\n",
       "      <td>0</td>\n",
       "      <td>0</td>\n",
       "      <td>0</td>\n",
       "      <td>0</td>\n",
       "      <td>0</td>\n",
       "      <td>0</td>\n",
       "      <td>0</td>\n",
       "      <td>1</td>\n",
       "      <td>1</td>\n",
       "    </tr>\n",
       "    <tr>\n",
       "      <th>1</th>\n",
       "      <td>com.indiageeks.apk</td>\n",
       "      <td>0</td>\n",
       "      <td>0</td>\n",
       "      <td>0</td>\n",
       "      <td>0</td>\n",
       "      <td>0</td>\n",
       "      <td>0</td>\n",
       "      <td>0</td>\n",
       "      <td>0</td>\n",
       "      <td>0</td>\n",
       "      <td>...</td>\n",
       "      <td>0</td>\n",
       "      <td>0</td>\n",
       "      <td>0</td>\n",
       "      <td>0</td>\n",
       "      <td>0</td>\n",
       "      <td>0</td>\n",
       "      <td>0</td>\n",
       "      <td>0</td>\n",
       "      <td>1</td>\n",
       "      <td>1</td>\n",
       "    </tr>\n",
       "    <tr>\n",
       "      <th>2</th>\n",
       "      <td>com.koimoi.android</td>\n",
       "      <td>0</td>\n",
       "      <td>0</td>\n",
       "      <td>0</td>\n",
       "      <td>0</td>\n",
       "      <td>0</td>\n",
       "      <td>0</td>\n",
       "      <td>1</td>\n",
       "      <td>0</td>\n",
       "      <td>0</td>\n",
       "      <td>...</td>\n",
       "      <td>0</td>\n",
       "      <td>0</td>\n",
       "      <td>0</td>\n",
       "      <td>0</td>\n",
       "      <td>0</td>\n",
       "      <td>0</td>\n",
       "      <td>0</td>\n",
       "      <td>0</td>\n",
       "      <td>2</td>\n",
       "      <td>2</td>\n",
       "    </tr>\n",
       "    <tr>\n",
       "      <th>3</th>\n",
       "      <td>com.activitylabs.bankbluffer</td>\n",
       "      <td>0</td>\n",
       "      <td>0</td>\n",
       "      <td>0</td>\n",
       "      <td>0</td>\n",
       "      <td>0</td>\n",
       "      <td>0</td>\n",
       "      <td>0</td>\n",
       "      <td>0</td>\n",
       "      <td>0</td>\n",
       "      <td>...</td>\n",
       "      <td>0</td>\n",
       "      <td>0</td>\n",
       "      <td>0</td>\n",
       "      <td>0</td>\n",
       "      <td>0</td>\n",
       "      <td>0</td>\n",
       "      <td>0</td>\n",
       "      <td>0</td>\n",
       "      <td>1</td>\n",
       "      <td>1</td>\n",
       "    </tr>\n",
       "    <tr>\n",
       "      <th>4</th>\n",
       "      <td>prayerguide.thegagne.com</td>\n",
       "      <td>0</td>\n",
       "      <td>0</td>\n",
       "      <td>0</td>\n",
       "      <td>0</td>\n",
       "      <td>0</td>\n",
       "      <td>0</td>\n",
       "      <td>0</td>\n",
       "      <td>0</td>\n",
       "      <td>0</td>\n",
       "      <td>...</td>\n",
       "      <td>0</td>\n",
       "      <td>0</td>\n",
       "      <td>0</td>\n",
       "      <td>0</td>\n",
       "      <td>0</td>\n",
       "      <td>0</td>\n",
       "      <td>0</td>\n",
       "      <td>0</td>\n",
       "      <td>1</td>\n",
       "      <td>1</td>\n",
       "    </tr>\n",
       "    <tr>\n",
       "      <th>...</th>\n",
       "      <td>...</td>\n",
       "      <td>...</td>\n",
       "      <td>...</td>\n",
       "      <td>...</td>\n",
       "      <td>...</td>\n",
       "      <td>...</td>\n",
       "      <td>...</td>\n",
       "      <td>...</td>\n",
       "      <td>...</td>\n",
       "      <td>...</td>\n",
       "      <td>...</td>\n",
       "      <td>...</td>\n",
       "      <td>...</td>\n",
       "      <td>...</td>\n",
       "      <td>...</td>\n",
       "      <td>...</td>\n",
       "      <td>...</td>\n",
       "      <td>...</td>\n",
       "      <td>...</td>\n",
       "      <td>...</td>\n",
       "      <td>...</td>\n",
       "    </tr>\n",
       "    <tr>\n",
       "      <th>657</th>\n",
       "      <td>sportstables.com</td>\n",
       "      <td>0</td>\n",
       "      <td>0</td>\n",
       "      <td>0</td>\n",
       "      <td>0</td>\n",
       "      <td>0</td>\n",
       "      <td>0</td>\n",
       "      <td>0</td>\n",
       "      <td>0</td>\n",
       "      <td>0</td>\n",
       "      <td>...</td>\n",
       "      <td>0</td>\n",
       "      <td>0</td>\n",
       "      <td>0</td>\n",
       "      <td>0</td>\n",
       "      <td>0</td>\n",
       "      <td>0</td>\n",
       "      <td>0</td>\n",
       "      <td>0</td>\n",
       "      <td>1</td>\n",
       "      <td>1</td>\n",
       "    </tr>\n",
       "    <tr>\n",
       "      <th>658</th>\n",
       "      <td>com.phonegap.tip</td>\n",
       "      <td>0</td>\n",
       "      <td>0</td>\n",
       "      <td>0</td>\n",
       "      <td>0</td>\n",
       "      <td>0</td>\n",
       "      <td>0</td>\n",
       "      <td>0</td>\n",
       "      <td>0</td>\n",
       "      <td>0</td>\n",
       "      <td>...</td>\n",
       "      <td>0</td>\n",
       "      <td>0</td>\n",
       "      <td>0</td>\n",
       "      <td>0</td>\n",
       "      <td>0</td>\n",
       "      <td>0</td>\n",
       "      <td>0</td>\n",
       "      <td>0</td>\n",
       "      <td>1</td>\n",
       "      <td>1</td>\n",
       "    </tr>\n",
       "    <tr>\n",
       "      <th>659</th>\n",
       "      <td>com.ugliapps.iheartfruits</td>\n",
       "      <td>0</td>\n",
       "      <td>0</td>\n",
       "      <td>0</td>\n",
       "      <td>0</td>\n",
       "      <td>0</td>\n",
       "      <td>0</td>\n",
       "      <td>0</td>\n",
       "      <td>0</td>\n",
       "      <td>0</td>\n",
       "      <td>...</td>\n",
       "      <td>0</td>\n",
       "      <td>0</td>\n",
       "      <td>0</td>\n",
       "      <td>0</td>\n",
       "      <td>0</td>\n",
       "      <td>0</td>\n",
       "      <td>0</td>\n",
       "      <td>0</td>\n",
       "      <td>1</td>\n",
       "      <td>1</td>\n",
       "    </tr>\n",
       "    <tr>\n",
       "      <th>660</th>\n",
       "      <td>sunnyappz.thesecretquotes</td>\n",
       "      <td>0</td>\n",
       "      <td>0</td>\n",
       "      <td>0</td>\n",
       "      <td>0</td>\n",
       "      <td>0</td>\n",
       "      <td>0</td>\n",
       "      <td>0</td>\n",
       "      <td>0</td>\n",
       "      <td>0</td>\n",
       "      <td>...</td>\n",
       "      <td>0</td>\n",
       "      <td>0</td>\n",
       "      <td>0</td>\n",
       "      <td>0</td>\n",
       "      <td>0</td>\n",
       "      <td>0</td>\n",
       "      <td>0</td>\n",
       "      <td>0</td>\n",
       "      <td>1</td>\n",
       "      <td>1</td>\n",
       "    </tr>\n",
       "    <tr>\n",
       "      <th>661</th>\n",
       "      <td>com.trackeat.mobile</td>\n",
       "      <td>0</td>\n",
       "      <td>0</td>\n",
       "      <td>0</td>\n",
       "      <td>0</td>\n",
       "      <td>0</td>\n",
       "      <td>0</td>\n",
       "      <td>0</td>\n",
       "      <td>0</td>\n",
       "      <td>0</td>\n",
       "      <td>...</td>\n",
       "      <td>0</td>\n",
       "      <td>0</td>\n",
       "      <td>0</td>\n",
       "      <td>0</td>\n",
       "      <td>0</td>\n",
       "      <td>0</td>\n",
       "      <td>0</td>\n",
       "      <td>0</td>\n",
       "      <td>1</td>\n",
       "      <td>1</td>\n",
       "    </tr>\n",
       "  </tbody>\n",
       "</table>\n",
       "<p>662 rows × 81 columns</p>\n",
       "</div>"
      ],
      "text/plain": [
       "                         apk_name  getBattery  onlevelchange  \\\n",
       "0         com.pr.ojectblue.dothis           0              0   \n",
       "1              com.indiageeks.apk           0              0   \n",
       "2              com.koimoi.android           0              0   \n",
       "3    com.activitylabs.bankbluffer           0              0   \n",
       "4        prayerguide.thegagne.com           0              0   \n",
       "..                            ...         ...            ...   \n",
       "657              sportstables.com           0              0   \n",
       "658              com.phonegap.tip           0              0   \n",
       "659     com.ugliapps.iheartfruits           0              0   \n",
       "660     sunnyappz.thesecretquotes           0              0   \n",
       "661           com.trackeat.mobile           0              0   \n",
       "\n",
       "     updateBatteryStatus  onchargingchange  ondischargingtimechange  battery  \\\n",
       "0                      0                 0                        0        0   \n",
       "1                      0                 0                        0        0   \n",
       "2                      0                 0                        0        0   \n",
       "3                      0                 0                        0        0   \n",
       "4                      0                 0                        0        0   \n",
       "..                   ...               ...                      ...      ...   \n",
       "657                    0                 0                        0        0   \n",
       "658                    0                 0                        0        0   \n",
       "659                    0                 0                        0        0   \n",
       "660                    0                 0                        0        0   \n",
       "661                    0                 0                        0        0   \n",
       "\n",
       "     getPicture  CameraOptions  PictureSourceType  ...  statusbar  \\\n",
       "0             0              0                  0  ...          0   \n",
       "1             0              0                  0  ...          0   \n",
       "2             1              0                  0  ...          0   \n",
       "3             0              0                  0  ...          0   \n",
       "4             0              0                  0  ...          0   \n",
       "..          ...            ...                ...  ...        ...   \n",
       "657           0              0                  0  ...          0   \n",
       "658           0              0                  0  ...          0   \n",
       "659           0              0                  0  ...          0   \n",
       "660           0              0                  0  ...          0   \n",
       "661           0              0                  0  ...          0   \n",
       "\n",
       "     backgroundColorByHexString  overlaysWebView  styleDefault  \\\n",
       "0                             0                0             0   \n",
       "1                             0                0             0   \n",
       "2                             0                0             0   \n",
       "3                             0                0             0   \n",
       "4                             0                0             0   \n",
       "..                          ...              ...           ...   \n",
       "657                           0                0             0   \n",
       "658                           0                0             0   \n",
       "659                           0                0             0   \n",
       "660                           0                0             0   \n",
       "661                           0                0             0   \n",
       "\n",
       "     styleLightContent  styleBlackTranslucent  styleBlackOpaque  \\\n",
       "0                    0                      0                 0   \n",
       "1                    0                      0                 0   \n",
       "2                    0                      0                 0   \n",
       "3                    0                      0                 0   \n",
       "4                    0                      0                 0   \n",
       "..                 ...                    ...               ...   \n",
       "657                  0                      0                 0   \n",
       "658                  0                      0                 0   \n",
       "659                  0                      0                 0   \n",
       "660                  0                      0                 0   \n",
       "661                  0                      0                 0   \n",
       "\n",
       "     backgroundColorByName  vibrate  vibration  \n",
       "0                        0        1          1  \n",
       "1                        0        1          1  \n",
       "2                        0        2          2  \n",
       "3                        0        1          1  \n",
       "4                        0        1          1  \n",
       "..                     ...      ...        ...  \n",
       "657                      0        1          1  \n",
       "658                      0        1          1  \n",
       "659                      0        1          1  \n",
       "660                      0        1          1  \n",
       "661                      0        1          1  \n",
       "\n",
       "[662 rows x 81 columns]"
      ]
     },
     "execution_count": 7,
     "metadata": {},
     "output_type": "execute_result"
    }
   ],
   "source": [
    "df_api"
   ]
  },
  {
   "cell_type": "markdown",
   "id": "champion-decimal",
   "metadata": {},
   "source": [
    "# Analyse API calls"
   ]
  },
  {
   "cell_type": "markdown",
   "id": "asian-robertson",
   "metadata": {},
   "source": [
    "## the occurance of funcitons detected for each plugin in each APK"
   ]
  },
  {
   "cell_type": "code",
   "execution_count": 8,
   "id": "exciting-scotland",
   "metadata": {
    "ExecuteTime": {
     "end_time": "2021-03-04T16:35:06.504076Z",
     "start_time": "2021-03-04T16:35:06.487285Z"
    }
   },
   "outputs": [
    {
     "data": {
      "text/html": [
       "<div>\n",
       "<style scoped>\n",
       "    .dataframe tbody tr th:only-of-type {\n",
       "        vertical-align: middle;\n",
       "    }\n",
       "\n",
       "    .dataframe tbody tr th {\n",
       "        vertical-align: top;\n",
       "    }\n",
       "\n",
       "    .dataframe thead th {\n",
       "        text-align: right;\n",
       "    }\n",
       "</style>\n",
       "<table border=\"1\" class=\"dataframe\">\n",
       "  <thead>\n",
       "    <tr style=\"text-align: right;\">\n",
       "      <th></th>\n",
       "      <th>battery</th>\n",
       "      <th>camera</th>\n",
       "      <th>device</th>\n",
       "      <th>dialogs</th>\n",
       "      <th>file</th>\n",
       "      <th>geolocation</th>\n",
       "      <th>InAppBrowser</th>\n",
       "      <th>media</th>\n",
       "      <th>network-information</th>\n",
       "      <th>screen-orientation</th>\n",
       "      <th>splashscreen</th>\n",
       "      <th>statusbar</th>\n",
       "      <th>vibration</th>\n",
       "    </tr>\n",
       "  </thead>\n",
       "  <tbody>\n",
       "    <tr>\n",
       "      <th>0</th>\n",
       "      <td>0</td>\n",
       "      <td>0</td>\n",
       "      <td>0</td>\n",
       "      <td>0</td>\n",
       "      <td>0</td>\n",
       "      <td>0</td>\n",
       "      <td>0</td>\n",
       "      <td>11</td>\n",
       "      <td>0</td>\n",
       "      <td>0</td>\n",
       "      <td>0</td>\n",
       "      <td>0</td>\n",
       "      <td>1</td>\n",
       "    </tr>\n",
       "    <tr>\n",
       "      <th>1</th>\n",
       "      <td>0</td>\n",
       "      <td>0</td>\n",
       "      <td>0</td>\n",
       "      <td>0</td>\n",
       "      <td>0</td>\n",
       "      <td>2</td>\n",
       "      <td>0</td>\n",
       "      <td>9</td>\n",
       "      <td>0</td>\n",
       "      <td>0</td>\n",
       "      <td>0</td>\n",
       "      <td>0</td>\n",
       "      <td>1</td>\n",
       "    </tr>\n",
       "    <tr>\n",
       "      <th>2</th>\n",
       "      <td>0</td>\n",
       "      <td>1</td>\n",
       "      <td>0</td>\n",
       "      <td>0</td>\n",
       "      <td>0</td>\n",
       "      <td>2</td>\n",
       "      <td>0</td>\n",
       "      <td>18</td>\n",
       "      <td>0</td>\n",
       "      <td>0</td>\n",
       "      <td>0</td>\n",
       "      <td>0</td>\n",
       "      <td>2</td>\n",
       "    </tr>\n",
       "    <tr>\n",
       "      <th>3</th>\n",
       "      <td>0</td>\n",
       "      <td>0</td>\n",
       "      <td>0</td>\n",
       "      <td>0</td>\n",
       "      <td>0</td>\n",
       "      <td>2</td>\n",
       "      <td>0</td>\n",
       "      <td>10</td>\n",
       "      <td>0</td>\n",
       "      <td>0</td>\n",
       "      <td>0</td>\n",
       "      <td>0</td>\n",
       "      <td>1</td>\n",
       "    </tr>\n",
       "    <tr>\n",
       "      <th>4</th>\n",
       "      <td>0</td>\n",
       "      <td>0</td>\n",
       "      <td>0</td>\n",
       "      <td>0</td>\n",
       "      <td>0</td>\n",
       "      <td>0</td>\n",
       "      <td>0</td>\n",
       "      <td>9</td>\n",
       "      <td>0</td>\n",
       "      <td>0</td>\n",
       "      <td>0</td>\n",
       "      <td>0</td>\n",
       "      <td>1</td>\n",
       "    </tr>\n",
       "    <tr>\n",
       "      <th>...</th>\n",
       "      <td>...</td>\n",
       "      <td>...</td>\n",
       "      <td>...</td>\n",
       "      <td>...</td>\n",
       "      <td>...</td>\n",
       "      <td>...</td>\n",
       "      <td>...</td>\n",
       "      <td>...</td>\n",
       "      <td>...</td>\n",
       "      <td>...</td>\n",
       "      <td>...</td>\n",
       "      <td>...</td>\n",
       "      <td>...</td>\n",
       "    </tr>\n",
       "    <tr>\n",
       "      <th>657</th>\n",
       "      <td>0</td>\n",
       "      <td>0</td>\n",
       "      <td>0</td>\n",
       "      <td>0</td>\n",
       "      <td>0</td>\n",
       "      <td>2</td>\n",
       "      <td>0</td>\n",
       "      <td>8</td>\n",
       "      <td>0</td>\n",
       "      <td>0</td>\n",
       "      <td>0</td>\n",
       "      <td>0</td>\n",
       "      <td>1</td>\n",
       "    </tr>\n",
       "    <tr>\n",
       "      <th>658</th>\n",
       "      <td>0</td>\n",
       "      <td>0</td>\n",
       "      <td>0</td>\n",
       "      <td>0</td>\n",
       "      <td>0</td>\n",
       "      <td>0</td>\n",
       "      <td>0</td>\n",
       "      <td>9</td>\n",
       "      <td>0</td>\n",
       "      <td>0</td>\n",
       "      <td>0</td>\n",
       "      <td>0</td>\n",
       "      <td>1</td>\n",
       "    </tr>\n",
       "    <tr>\n",
       "      <th>659</th>\n",
       "      <td>0</td>\n",
       "      <td>0</td>\n",
       "      <td>0</td>\n",
       "      <td>0</td>\n",
       "      <td>0</td>\n",
       "      <td>0</td>\n",
       "      <td>0</td>\n",
       "      <td>11</td>\n",
       "      <td>0</td>\n",
       "      <td>0</td>\n",
       "      <td>0</td>\n",
       "      <td>0</td>\n",
       "      <td>1</td>\n",
       "    </tr>\n",
       "    <tr>\n",
       "      <th>660</th>\n",
       "      <td>0</td>\n",
       "      <td>0</td>\n",
       "      <td>0</td>\n",
       "      <td>0</td>\n",
       "      <td>0</td>\n",
       "      <td>2</td>\n",
       "      <td>0</td>\n",
       "      <td>9</td>\n",
       "      <td>0</td>\n",
       "      <td>0</td>\n",
       "      <td>0</td>\n",
       "      <td>0</td>\n",
       "      <td>1</td>\n",
       "    </tr>\n",
       "    <tr>\n",
       "      <th>661</th>\n",
       "      <td>0</td>\n",
       "      <td>0</td>\n",
       "      <td>0</td>\n",
       "      <td>0</td>\n",
       "      <td>0</td>\n",
       "      <td>2</td>\n",
       "      <td>0</td>\n",
       "      <td>8</td>\n",
       "      <td>0</td>\n",
       "      <td>0</td>\n",
       "      <td>0</td>\n",
       "      <td>0</td>\n",
       "      <td>1</td>\n",
       "    </tr>\n",
       "  </tbody>\n",
       "</table>\n",
       "<p>662 rows × 13 columns</p>\n",
       "</div>"
      ],
      "text/plain": [
       "     battery  camera  device  dialogs  file  geolocation  InAppBrowser  media  \\\n",
       "0          0       0       0        0     0            0             0     11   \n",
       "1          0       0       0        0     0            2             0      9   \n",
       "2          0       1       0        0     0            2             0     18   \n",
       "3          0       0       0        0     0            2             0     10   \n",
       "4          0       0       0        0     0            0             0      9   \n",
       "..       ...     ...     ...      ...   ...          ...           ...    ...   \n",
       "657        0       0       0        0     0            2             0      8   \n",
       "658        0       0       0        0     0            0             0      9   \n",
       "659        0       0       0        0     0            0             0     11   \n",
       "660        0       0       0        0     0            2             0      9   \n",
       "661        0       0       0        0     0            2             0      8   \n",
       "\n",
       "     network-information  screen-orientation  splashscreen  statusbar  \\\n",
       "0                      0                   0             0          0   \n",
       "1                      0                   0             0          0   \n",
       "2                      0                   0             0          0   \n",
       "3                      0                   0             0          0   \n",
       "4                      0                   0             0          0   \n",
       "..                   ...                 ...           ...        ...   \n",
       "657                    0                   0             0          0   \n",
       "658                    0                   0             0          0   \n",
       "659                    0                   0             0          0   \n",
       "660                    0                   0             0          0   \n",
       "661                    0                   0             0          0   \n",
       "\n",
       "     vibration  \n",
       "0            1  \n",
       "1            1  \n",
       "2            2  \n",
       "3            1  \n",
       "4            1  \n",
       "..         ...  \n",
       "657          1  \n",
       "658          1  \n",
       "659          1  \n",
       "660          1  \n",
       "661          1  \n",
       "\n",
       "[662 rows x 13 columns]"
      ]
     },
     "execution_count": 8,
     "metadata": {},
     "output_type": "execute_result"
    }
   ],
   "source": [
    "plugins_cols = list(d_plugins.keys())\n",
    "df_plugins_only = df_api[plugins_cols]\n",
    "df_plugins_only"
   ]
  },
  {
   "cell_type": "markdown",
   "id": "whole-importance",
   "metadata": {},
   "source": [
    "## Heatpmap"
   ]
  },
  {
   "cell_type": "code",
   "execution_count": 9,
   "id": "confident-cameroon",
   "metadata": {
    "ExecuteTime": {
     "end_time": "2021-03-04T16:35:09.371474Z",
     "start_time": "2021-03-04T16:35:06.505854Z"
    }
   },
   "outputs": [
    {
     "data": {
      "image/png": "[encoded data removed]",
      "text/plain": [
       "<Figure size 432x288 with 2 Axes>"
      ]
     },
     "metadata": {
      "needs_background": "light"
     },
     "output_type": "display_data"
    }
   ],
   "source": [
    "import seaborn as sns\n",
    "df_plugins_only_T = df_plugins_only.T    # transpose\n",
    "ax = sns.heatmap(df_plugins_only_T)"
   ]
  },
  {
   "cell_type": "code",
   "execution_count": 25,
   "id": "cultural-strength",
   "metadata": {
    "ExecuteTime": {
     "end_time": "2021-03-04T20:32:43.805198Z",
     "start_time": "2021-03-04T20:32:43.477394Z"
    }
   },
   "outputs": [
    {
     "data": {
      "image/png": "[encoded data removed]",
      "text/plain": [
       "<Figure size 432x288 with 2 Axes>"
      ]
     },
     "metadata": {
      "needs_background": "light"
     },
     "output_type": "display_data"
    }
   ],
   "source": [
    "# select a set of apks, originial\n",
    "set_num = 20\n",
    "ax = sns.heatmap(df_plugins_only_T.iloc[:, :set_num])\n"
   ]
  },
  {
   "cell_type": "code",
   "execution_count": 28,
   "id": "different-convert",
   "metadata": {
    "ExecuteTime": {
     "end_time": "2021-03-04T20:34:15.121506Z",
     "start_time": "2021-03-04T20:34:13.640291Z"
    }
   },
   "outputs": [
    {
     "data": {
      "image/png": "[encoded data removed]",
      "text/plain": [
       "<Figure size 432x288 with 2 Axes>"
      ]
     },
     "metadata": {
      "needs_background": "light"
     },
     "output_type": "display_data"
    }
   ],
   "source": [
    "# select a set of apks, heatmap with annotation\n",
    "set_num = 20\n",
    "ax = sns.heatmap(df_plugins_only_T.iloc[:, :set_num], annot=True)"
   ]
  },
  {
   "cell_type": "markdown",
   "id": "assumed-macedonia",
   "metadata": {},
   "source": [
    "## count the num of apks invoking funcitons for each plugin"
   ]
  },
  {
   "cell_type": "code",
   "execution_count": 10,
   "id": "capable-validity",
   "metadata": {
    "ExecuteTime": {
     "end_time": "2021-03-04T16:35:09.374985Z",
     "start_time": "2021-03-04T16:35:09.372984Z"
    }
   },
   "outputs": [],
   "source": [
    "# list of l_plugins from dataset\n",
    "l_plugins = list(d_plugins.keys())\n",
    "# l_plugins"
   ]
  },
  {
   "cell_type": "code",
   "execution_count": 11,
   "id": "critical-substance",
   "metadata": {
    "ExecuteTime": {
     "end_time": "2021-03-04T16:35:09.390769Z",
     "start_time": "2021-03-04T16:35:09.376486Z"
    }
   },
   "outputs": [
    {
     "data": {
      "text/plain": [
       "battery                  0\n",
       "camera                   6\n",
       "device                   0\n",
       "dialogs                  2\n",
       "file                     0\n",
       "geolocation            417\n",
       "InAppBrowser             0\n",
       "media                  635\n",
       "network-information      1\n",
       "screen-orientation       9\n",
       "splashscreen             0\n",
       "statusbar                0\n",
       "vibration              585\n",
       "dtype: int64"
      ]
     },
     "execution_count": 11,
     "metadata": {},
     "output_type": "execute_result"
    }
   ],
   "source": [
    "d_plugins_cnt = df_plugins_only[l_plugins].astype(bool).sum(axis=0)\n",
    "d_plugins_cnt"
   ]
  },
  {
   "cell_type": "code",
   "execution_count": null,
   "id": "middle-motorcycle",
   "metadata": {
    "ExecuteTime": {
     "end_time": "2021-03-04T06:12:24.345538Z",
     "start_time": "2021-03-04T06:12:24.189346Z"
    }
   },
   "outputs": [],
   "source": []
  },
  {
   "cell_type": "code",
   "execution_count": null,
   "id": "olive-history",
   "metadata": {},
   "outputs": [],
   "source": []
  },
  {
   "cell_type": "code",
   "execution_count": null,
   "id": "extra-underwear",
   "metadata": {},
   "outputs": [],
   "source": []
  },
  {
   "cell_type": "code",
   "execution_count": null,
   "id": "tropical-cooper",
   "metadata": {},
   "outputs": [],
   "source": []
  },
  {
   "cell_type": "code",
   "execution_count": null,
   "id": "mysterious-indian",
   "metadata": {},
   "outputs": [],
   "source": []
  },
  {
   "cell_type": "code",
   "execution_count": null,
   "id": "bright-christianity",
   "metadata": {},
   "outputs": [],
   "source": []
  },
  {
   "cell_type": "code",
   "execution_count": null,
   "id": "central-fitness",
   "metadata": {},
   "outputs": [],
   "source": []
  },
  {
   "cell_type": "code",
   "execution_count": null,
   "id": "automated-franchise",
   "metadata": {},
   "outputs": [],
   "source": []
  },
  {
   "cell_type": "code",
   "execution_count": null,
   "id": "tropical-simulation",
   "metadata": {},
   "outputs": [],
   "source": []
  }
 ],
 "metadata": {
  "kernelspec": {
   "display_name": "Python 3",
   "language": "python",
   "name": "python3"
  },
  "language_info": {
   "codemirror_mode": {
    "name": "ipython",
    "version": 3
   },
   "file_extension": ".py",
   "mimetype": "text/x-python",
   "name": "python",
   "nbconvert_exporter": "python",
   "pygments_lexer": "ipython3",
   "version": "3.8.2"
  },
  "toc": {
   "base_numbering": 1,
   "nav_menu": {},
   "number_sections": true,
   "sideBar": true,
   "skip_h1_title": false,
   "title_cell": "Table of Contents",
   "title_sidebar": "Contents",
   "toc_cell": false,
   "toc_position": {},
   "toc_section_display": true,
   "toc_window_display": false
  }
 },
 "nbformat": 4,
 "nbformat_minor": 5
}
