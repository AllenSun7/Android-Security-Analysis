{
 "cells": [
  {
   "cell_type": "code",
   "execution_count": 1,
   "id": "retained-longitude",
   "metadata": {
    "ExecuteTime": {
     "end_time": "2021-03-09T03:55:05.144770Z",
     "start_time": "2021-03-09T03:55:04.755987Z"
    }
   },
   "outputs": [],
   "source": [
    "import numpy as np\n",
    "import pandas as pd\n",
    "from copy import deepcopy\n",
    "from cordova_plugins import d_plugins\n"
   ]
  },
  {
   "cell_type": "markdown",
   "id": "instructional-thursday",
   "metadata": {
    "ExecuteTime": {
     "end_time": "2021-03-01T03:20:07.934571Z",
     "start_time": "2021-03-01T03:20:07.932505Z"
    }
   },
   "source": [
    "# Import Dataset"
   ]
  },
  {
   "cell_type": "code",
   "execution_count": 2,
   "id": "permanent-programming",
   "metadata": {
    "ExecuteTime": {
     "end_time": "2021-03-09T03:55:05.176772Z",
     "start_time": "2021-03-09T03:55:05.147303Z"
    }
   },
   "outputs": [],
   "source": [
    "df_api = pd.read_csv(\"../db/cdv/cordova_APIs.csv\")\n",
    "df_permission = pd.read_csv(\"../db/cdv/cordova_PERMISSIONs.csv\")\n",
    "# df_feature = pd.read_csv(\"../db/fcordova/eatures.csv\")\n"
   ]
  },
  {
   "cell_type": "code",
   "execution_count": 3,
   "id": "focused-philip",
   "metadata": {
    "ExecuteTime": {
     "end_time": "2021-03-09T03:55:05.187664Z",
     "start_time": "2021-03-09T03:55:05.179091Z"
    }
   },
   "outputs": [
    {
     "data": {
      "text/plain": [
       "Index(['apk_name', 'navigator.getBattery', 'navigator.camera', 'device',\n",
       "       'navigator.notification', 'cordova.file', 'navigator.geolocation',\n",
       "       'cordova.InAppBrowser', 'Media', 'navigator.device.capture',\n",
       "       'navigator.connection', 'screen.orientation', 'navigator.splashscreen',\n",
       "       'StatusBar', 'navigator.vibrate'],\n",
       "      dtype='object')"
      ]
     },
     "execution_count": 3,
     "metadata": {},
     "output_type": "execute_result"
    }
   ],
   "source": [
    "df_api.columns"
   ]
  },
  {
   "cell_type": "code",
   "execution_count": 4,
   "id": "retained-representation",
   "metadata": {
    "ExecuteTime": {
     "end_time": "2021-03-09T03:55:05.191738Z",
     "start_time": "2021-03-09T03:55:05.189288Z"
    }
   },
   "outputs": [],
   "source": [
    "l_api = list(df_api.columns)\n",
    "l_permission = df_permission.columns"
   ]
  },
  {
   "cell_type": "code",
   "execution_count": 5,
   "id": "center-template",
   "metadata": {
    "ExecuteTime": {
     "end_time": "2021-03-09T03:55:05.196840Z",
     "start_time": "2021-03-09T03:55:05.193625Z"
    }
   },
   "outputs": [
    {
     "data": {
      "text/plain": [
       "['apk_name',\n",
       " 'navigator.getBattery',\n",
       " 'navigator.camera',\n",
       " 'device',\n",
       " 'navigator.notification',\n",
       " 'cordova.file',\n",
       " 'navigator.geolocation',\n",
       " 'cordova.InAppBrowser',\n",
       " 'Media',\n",
       " 'navigator.device.capture',\n",
       " 'navigator.connection',\n",
       " 'screen.orientation',\n",
       " 'navigator.splashscreen',\n",
       " 'StatusBar',\n",
       " 'navigator.vibrate']"
      ]
     },
     "execution_count": 5,
     "metadata": {},
     "output_type": "execute_result"
    }
   ],
   "source": [
    "l_api"
   ]
  },
  {
   "cell_type": "code",
   "execution_count": 6,
   "id": "national-violence",
   "metadata": {
    "ExecuteTime": {
     "end_time": "2021-03-09T03:55:05.201362Z",
     "start_time": "2021-03-09T03:55:05.198470Z"
    }
   },
   "outputs": [
    {
     "data": {
      "text/plain": [
       "False"
      ]
     },
     "execution_count": 6,
     "metadata": {},
     "output_type": "execute_result"
    }
   ],
   "source": [
    "\"successCallback\" in l_api"
   ]
  },
  {
   "cell_type": "code",
   "execution_count": 7,
   "id": "significant-begin",
   "metadata": {
    "ExecuteTime": {
     "end_time": "2021-03-09T03:55:05.221188Z",
     "start_time": "2021-03-09T03:55:05.204229Z"
    }
   },
   "outputs": [
    {
     "data": {
      "text/html": [
       "<div>\n",
       "<style scoped>\n",
       "    .dataframe tbody tr th:only-of-type {\n",
       "        vertical-align: middle;\n",
       "    }\n",
       "\n",
       "    .dataframe tbody tr th {\n",
       "        vertical-align: top;\n",
       "    }\n",
       "\n",
       "    .dataframe thead th {\n",
       "        text-align: right;\n",
       "    }\n",
       "</style>\n",
       "<table border=\"1\" class=\"dataframe\">\n",
       "  <thead>\n",
       "    <tr style=\"text-align: right;\">\n",
       "      <th></th>\n",
       "      <th>apk_name</th>\n",
       "      <th>navigator.getBattery</th>\n",
       "      <th>navigator.camera</th>\n",
       "      <th>device</th>\n",
       "      <th>navigator.notification</th>\n",
       "      <th>cordova.file</th>\n",
       "      <th>navigator.geolocation</th>\n",
       "      <th>cordova.InAppBrowser</th>\n",
       "      <th>Media</th>\n",
       "      <th>navigator.device.capture</th>\n",
       "      <th>navigator.connection</th>\n",
       "      <th>screen.orientation</th>\n",
       "      <th>navigator.splashscreen</th>\n",
       "      <th>StatusBar</th>\n",
       "      <th>navigator.vibrate</th>\n",
       "    </tr>\n",
       "  </thead>\n",
       "  <tbody>\n",
       "    <tr>\n",
       "      <th>0</th>\n",
       "      <td>com.pr.ojectblue.dothis</td>\n",
       "      <td>13</td>\n",
       "      <td>6</td>\n",
       "      <td>7</td>\n",
       "      <td>2</td>\n",
       "      <td>5</td>\n",
       "      <td>8</td>\n",
       "      <td>0</td>\n",
       "      <td>1</td>\n",
       "      <td>2</td>\n",
       "      <td>5</td>\n",
       "      <td>16</td>\n",
       "      <td>0</td>\n",
       "      <td>0</td>\n",
       "      <td>0</td>\n",
       "    </tr>\n",
       "    <tr>\n",
       "      <th>1</th>\n",
       "      <td>com.indiageeks.apk</td>\n",
       "      <td>13</td>\n",
       "      <td>1</td>\n",
       "      <td>1</td>\n",
       "      <td>13</td>\n",
       "      <td>1</td>\n",
       "      <td>1</td>\n",
       "      <td>0</td>\n",
       "      <td>94</td>\n",
       "      <td>1</td>\n",
       "      <td>5</td>\n",
       "      <td>15</td>\n",
       "      <td>1</td>\n",
       "      <td>0</td>\n",
       "      <td>0</td>\n",
       "    </tr>\n",
       "    <tr>\n",
       "      <th>2</th>\n",
       "      <td>com.koimoi.android</td>\n",
       "      <td>13</td>\n",
       "      <td>1</td>\n",
       "      <td>4</td>\n",
       "      <td>2</td>\n",
       "      <td>8</td>\n",
       "      <td>1</td>\n",
       "      <td>0</td>\n",
       "      <td>94</td>\n",
       "      <td>1</td>\n",
       "      <td>11</td>\n",
       "      <td>2</td>\n",
       "      <td>1</td>\n",
       "      <td>0</td>\n",
       "      <td>0</td>\n",
       "    </tr>\n",
       "    <tr>\n",
       "      <th>3</th>\n",
       "      <td>com.activitylabs.bankbluffer</td>\n",
       "      <td>13</td>\n",
       "      <td>0</td>\n",
       "      <td>8</td>\n",
       "      <td>1</td>\n",
       "      <td>7</td>\n",
       "      <td>4</td>\n",
       "      <td>0</td>\n",
       "      <td>98</td>\n",
       "      <td>0</td>\n",
       "      <td>1</td>\n",
       "      <td>0</td>\n",
       "      <td>0</td>\n",
       "      <td>0</td>\n",
       "      <td>0</td>\n",
       "    </tr>\n",
       "    <tr>\n",
       "      <th>4</th>\n",
       "      <td>prayerguide.thegagne.com</td>\n",
       "      <td>0</td>\n",
       "      <td>4</td>\n",
       "      <td>7</td>\n",
       "      <td>3</td>\n",
       "      <td>5</td>\n",
       "      <td>8</td>\n",
       "      <td>0</td>\n",
       "      <td>1</td>\n",
       "      <td>2</td>\n",
       "      <td>5</td>\n",
       "      <td>16</td>\n",
       "      <td>0</td>\n",
       "      <td>0</td>\n",
       "      <td>0</td>\n",
       "    </tr>\n",
       "    <tr>\n",
       "      <th>...</th>\n",
       "      <td>...</td>\n",
       "      <td>...</td>\n",
       "      <td>...</td>\n",
       "      <td>...</td>\n",
       "      <td>...</td>\n",
       "      <td>...</td>\n",
       "      <td>...</td>\n",
       "      <td>...</td>\n",
       "      <td>...</td>\n",
       "      <td>...</td>\n",
       "      <td>...</td>\n",
       "      <td>...</td>\n",
       "      <td>...</td>\n",
       "      <td>...</td>\n",
       "      <td>...</td>\n",
       "    </tr>\n",
       "    <tr>\n",
       "      <th>657</th>\n",
       "      <td>sportstables.com</td>\n",
       "      <td>13</td>\n",
       "      <td>1</td>\n",
       "      <td>1</td>\n",
       "      <td>2</td>\n",
       "      <td>8</td>\n",
       "      <td>1</td>\n",
       "      <td>0</td>\n",
       "      <td>94</td>\n",
       "      <td>1</td>\n",
       "      <td>11</td>\n",
       "      <td>13</td>\n",
       "      <td>1</td>\n",
       "      <td>0</td>\n",
       "      <td>0</td>\n",
       "    </tr>\n",
       "    <tr>\n",
       "      <th>658</th>\n",
       "      <td>com.phonegap.tip</td>\n",
       "      <td>0</td>\n",
       "      <td>2</td>\n",
       "      <td>1</td>\n",
       "      <td>2</td>\n",
       "      <td>5</td>\n",
       "      <td>1</td>\n",
       "      <td>0</td>\n",
       "      <td>12</td>\n",
       "      <td>2</td>\n",
       "      <td>0</td>\n",
       "      <td>5</td>\n",
       "      <td>0</td>\n",
       "      <td>0</td>\n",
       "      <td>0</td>\n",
       "    </tr>\n",
       "    <tr>\n",
       "      <th>659</th>\n",
       "      <td>com.ugliapps.iheartfruits</td>\n",
       "      <td>12</td>\n",
       "      <td>0</td>\n",
       "      <td>3</td>\n",
       "      <td>0</td>\n",
       "      <td>6</td>\n",
       "      <td>0</td>\n",
       "      <td>0</td>\n",
       "      <td>74</td>\n",
       "      <td>0</td>\n",
       "      <td>1</td>\n",
       "      <td>0</td>\n",
       "      <td>0</td>\n",
       "      <td>0</td>\n",
       "      <td>0</td>\n",
       "    </tr>\n",
       "    <tr>\n",
       "      <th>660</th>\n",
       "      <td>sunnyappz.thesecretquotes</td>\n",
       "      <td>13</td>\n",
       "      <td>0</td>\n",
       "      <td>8</td>\n",
       "      <td>0</td>\n",
       "      <td>8</td>\n",
       "      <td>0</td>\n",
       "      <td>0</td>\n",
       "      <td>98</td>\n",
       "      <td>0</td>\n",
       "      <td>5</td>\n",
       "      <td>2</td>\n",
       "      <td>0</td>\n",
       "      <td>0</td>\n",
       "      <td>0</td>\n",
       "    </tr>\n",
       "    <tr>\n",
       "      <th>661</th>\n",
       "      <td>com.trackeat.mobile</td>\n",
       "      <td>13</td>\n",
       "      <td>0</td>\n",
       "      <td>8</td>\n",
       "      <td>0</td>\n",
       "      <td>7</td>\n",
       "      <td>0</td>\n",
       "      <td>0</td>\n",
       "      <td>1</td>\n",
       "      <td>0</td>\n",
       "      <td>2</td>\n",
       "      <td>1</td>\n",
       "      <td>0</td>\n",
       "      <td>0</td>\n",
       "      <td>0</td>\n",
       "    </tr>\n",
       "  </tbody>\n",
       "</table>\n",
       "<p>662 rows × 15 columns</p>\n",
       "</div>"
      ],
      "text/plain": [
       "                         apk_name  navigator.getBattery  navigator.camera  \\\n",
       "0         com.pr.ojectblue.dothis                    13                 6   \n",
       "1              com.indiageeks.apk                    13                 1   \n",
       "2              com.koimoi.android                    13                 1   \n",
       "3    com.activitylabs.bankbluffer                    13                 0   \n",
       "4        prayerguide.thegagne.com                     0                 4   \n",
       "..                            ...                   ...               ...   \n",
       "657              sportstables.com                    13                 1   \n",
       "658              com.phonegap.tip                     0                 2   \n",
       "659     com.ugliapps.iheartfruits                    12                 0   \n",
       "660     sunnyappz.thesecretquotes                    13                 0   \n",
       "661           com.trackeat.mobile                    13                 0   \n",
       "\n",
       "     device  navigator.notification  cordova.file  navigator.geolocation  \\\n",
       "0         7                       2             5                      8   \n",
       "1         1                      13             1                      1   \n",
       "2         4                       2             8                      1   \n",
       "3         8                       1             7                      4   \n",
       "4         7                       3             5                      8   \n",
       "..      ...                     ...           ...                    ...   \n",
       "657       1                       2             8                      1   \n",
       "658       1                       2             5                      1   \n",
       "659       3                       0             6                      0   \n",
       "660       8                       0             8                      0   \n",
       "661       8                       0             7                      0   \n",
       "\n",
       "     cordova.InAppBrowser  Media  navigator.device.capture  \\\n",
       "0                       0      1                         2   \n",
       "1                       0     94                         1   \n",
       "2                       0     94                         1   \n",
       "3                       0     98                         0   \n",
       "4                       0      1                         2   \n",
       "..                    ...    ...                       ...   \n",
       "657                     0     94                         1   \n",
       "658                     0     12                         2   \n",
       "659                     0     74                         0   \n",
       "660                     0     98                         0   \n",
       "661                     0      1                         0   \n",
       "\n",
       "     navigator.connection  screen.orientation  navigator.splashscreen  \\\n",
       "0                       5                  16                       0   \n",
       "1                       5                  15                       1   \n",
       "2                      11                   2                       1   \n",
       "3                       1                   0                       0   \n",
       "4                       5                  16                       0   \n",
       "..                    ...                 ...                     ...   \n",
       "657                    11                  13                       1   \n",
       "658                     0                   5                       0   \n",
       "659                     1                   0                       0   \n",
       "660                     5                   2                       0   \n",
       "661                     2                   1                       0   \n",
       "\n",
       "     StatusBar  navigator.vibrate  \n",
       "0            0                  0  \n",
       "1            0                  0  \n",
       "2            0                  0  \n",
       "3            0                  0  \n",
       "4            0                  0  \n",
       "..         ...                ...  \n",
       "657          0                  0  \n",
       "658          0                  0  \n",
       "659          0                  0  \n",
       "660          0                  0  \n",
       "661          0                  0  \n",
       "\n",
       "[662 rows x 15 columns]"
      ]
     },
     "execution_count": 7,
     "metadata": {},
     "output_type": "execute_result"
    }
   ],
   "source": [
    "df_api"
   ]
  },
  {
   "cell_type": "markdown",
   "id": "champion-decimal",
   "metadata": {},
   "source": [
    "# Analyse API calls"
   ]
  },
  {
   "cell_type": "markdown",
   "id": "asian-robertson",
   "metadata": {},
   "source": [
    "## the occurance of funcitons detected for each plugin in each APK"
   ]
  },
  {
   "cell_type": "code",
   "execution_count": 8,
   "id": "exciting-scotland",
   "metadata": {
    "ExecuteTime": {
     "end_time": "2021-03-09T03:55:05.239347Z",
     "start_time": "2021-03-09T03:55:05.223754Z"
    }
   },
   "outputs": [
    {
     "data": {
      "text/html": [
       "<div>\n",
       "<style scoped>\n",
       "    .dataframe tbody tr th:only-of-type {\n",
       "        vertical-align: middle;\n",
       "    }\n",
       "\n",
       "    .dataframe tbody tr th {\n",
       "        vertical-align: top;\n",
       "    }\n",
       "\n",
       "    .dataframe thead th {\n",
       "        text-align: right;\n",
       "    }\n",
       "</style>\n",
       "<table border=\"1\" class=\"dataframe\">\n",
       "  <thead>\n",
       "    <tr style=\"text-align: right;\">\n",
       "      <th></th>\n",
       "      <th>navigator.getBattery</th>\n",
       "      <th>navigator.camera</th>\n",
       "      <th>device</th>\n",
       "      <th>navigator.notification</th>\n",
       "      <th>cordova.file</th>\n",
       "      <th>navigator.geolocation</th>\n",
       "      <th>cordova.InAppBrowser</th>\n",
       "      <th>Media</th>\n",
       "      <th>navigator.device.capture</th>\n",
       "      <th>navigator.connection</th>\n",
       "      <th>screen.orientation</th>\n",
       "      <th>navigator.splashscreen</th>\n",
       "      <th>StatusBar</th>\n",
       "      <th>navigator.vibrate</th>\n",
       "    </tr>\n",
       "  </thead>\n",
       "  <tbody>\n",
       "    <tr>\n",
       "      <th>0</th>\n",
       "      <td>13</td>\n",
       "      <td>6</td>\n",
       "      <td>7</td>\n",
       "      <td>2</td>\n",
       "      <td>5</td>\n",
       "      <td>8</td>\n",
       "      <td>0</td>\n",
       "      <td>1</td>\n",
       "      <td>2</td>\n",
       "      <td>5</td>\n",
       "      <td>16</td>\n",
       "      <td>0</td>\n",
       "      <td>0</td>\n",
       "      <td>0</td>\n",
       "    </tr>\n",
       "    <tr>\n",
       "      <th>1</th>\n",
       "      <td>13</td>\n",
       "      <td>1</td>\n",
       "      <td>1</td>\n",
       "      <td>13</td>\n",
       "      <td>1</td>\n",
       "      <td>1</td>\n",
       "      <td>0</td>\n",
       "      <td>94</td>\n",
       "      <td>1</td>\n",
       "      <td>5</td>\n",
       "      <td>15</td>\n",
       "      <td>1</td>\n",
       "      <td>0</td>\n",
       "      <td>0</td>\n",
       "    </tr>\n",
       "    <tr>\n",
       "      <th>2</th>\n",
       "      <td>13</td>\n",
       "      <td>1</td>\n",
       "      <td>4</td>\n",
       "      <td>2</td>\n",
       "      <td>8</td>\n",
       "      <td>1</td>\n",
       "      <td>0</td>\n",
       "      <td>94</td>\n",
       "      <td>1</td>\n",
       "      <td>11</td>\n",
       "      <td>2</td>\n",
       "      <td>1</td>\n",
       "      <td>0</td>\n",
       "      <td>0</td>\n",
       "    </tr>\n",
       "    <tr>\n",
       "      <th>3</th>\n",
       "      <td>13</td>\n",
       "      <td>0</td>\n",
       "      <td>8</td>\n",
       "      <td>1</td>\n",
       "      <td>7</td>\n",
       "      <td>4</td>\n",
       "      <td>0</td>\n",
       "      <td>98</td>\n",
       "      <td>0</td>\n",
       "      <td>1</td>\n",
       "      <td>0</td>\n",
       "      <td>0</td>\n",
       "      <td>0</td>\n",
       "      <td>0</td>\n",
       "    </tr>\n",
       "    <tr>\n",
       "      <th>4</th>\n",
       "      <td>0</td>\n",
       "      <td>4</td>\n",
       "      <td>7</td>\n",
       "      <td>3</td>\n",
       "      <td>5</td>\n",
       "      <td>8</td>\n",
       "      <td>0</td>\n",
       "      <td>1</td>\n",
       "      <td>2</td>\n",
       "      <td>5</td>\n",
       "      <td>16</td>\n",
       "      <td>0</td>\n",
       "      <td>0</td>\n",
       "      <td>0</td>\n",
       "    </tr>\n",
       "    <tr>\n",
       "      <th>...</th>\n",
       "      <td>...</td>\n",
       "      <td>...</td>\n",
       "      <td>...</td>\n",
       "      <td>...</td>\n",
       "      <td>...</td>\n",
       "      <td>...</td>\n",
       "      <td>...</td>\n",
       "      <td>...</td>\n",
       "      <td>...</td>\n",
       "      <td>...</td>\n",
       "      <td>...</td>\n",
       "      <td>...</td>\n",
       "      <td>...</td>\n",
       "      <td>...</td>\n",
       "    </tr>\n",
       "    <tr>\n",
       "      <th>657</th>\n",
       "      <td>13</td>\n",
       "      <td>1</td>\n",
       "      <td>1</td>\n",
       "      <td>2</td>\n",
       "      <td>8</td>\n",
       "      <td>1</td>\n",
       "      <td>0</td>\n",
       "      <td>94</td>\n",
       "      <td>1</td>\n",
       "      <td>11</td>\n",
       "      <td>13</td>\n",
       "      <td>1</td>\n",
       "      <td>0</td>\n",
       "      <td>0</td>\n",
       "    </tr>\n",
       "    <tr>\n",
       "      <th>658</th>\n",
       "      <td>0</td>\n",
       "      <td>2</td>\n",
       "      <td>1</td>\n",
       "      <td>2</td>\n",
       "      <td>5</td>\n",
       "      <td>1</td>\n",
       "      <td>0</td>\n",
       "      <td>12</td>\n",
       "      <td>2</td>\n",
       "      <td>0</td>\n",
       "      <td>5</td>\n",
       "      <td>0</td>\n",
       "      <td>0</td>\n",
       "      <td>0</td>\n",
       "    </tr>\n",
       "    <tr>\n",
       "      <th>659</th>\n",
       "      <td>12</td>\n",
       "      <td>0</td>\n",
       "      <td>3</td>\n",
       "      <td>0</td>\n",
       "      <td>6</td>\n",
       "      <td>0</td>\n",
       "      <td>0</td>\n",
       "      <td>74</td>\n",
       "      <td>0</td>\n",
       "      <td>1</td>\n",
       "      <td>0</td>\n",
       "      <td>0</td>\n",
       "      <td>0</td>\n",
       "      <td>0</td>\n",
       "    </tr>\n",
       "    <tr>\n",
       "      <th>660</th>\n",
       "      <td>13</td>\n",
       "      <td>0</td>\n",
       "      <td>8</td>\n",
       "      <td>0</td>\n",
       "      <td>8</td>\n",
       "      <td>0</td>\n",
       "      <td>0</td>\n",
       "      <td>98</td>\n",
       "      <td>0</td>\n",
       "      <td>5</td>\n",
       "      <td>2</td>\n",
       "      <td>0</td>\n",
       "      <td>0</td>\n",
       "      <td>0</td>\n",
       "    </tr>\n",
       "    <tr>\n",
       "      <th>661</th>\n",
       "      <td>13</td>\n",
       "      <td>0</td>\n",
       "      <td>8</td>\n",
       "      <td>0</td>\n",
       "      <td>7</td>\n",
       "      <td>0</td>\n",
       "      <td>0</td>\n",
       "      <td>1</td>\n",
       "      <td>0</td>\n",
       "      <td>2</td>\n",
       "      <td>1</td>\n",
       "      <td>0</td>\n",
       "      <td>0</td>\n",
       "      <td>0</td>\n",
       "    </tr>\n",
       "  </tbody>\n",
       "</table>\n",
       "<p>662 rows × 14 columns</p>\n",
       "</div>"
      ],
      "text/plain": [
       "     navigator.getBattery  navigator.camera  device  navigator.notification  \\\n",
       "0                      13                 6       7                       2   \n",
       "1                      13                 1       1                      13   \n",
       "2                      13                 1       4                       2   \n",
       "3                      13                 0       8                       1   \n",
       "4                       0                 4       7                       3   \n",
       "..                    ...               ...     ...                     ...   \n",
       "657                    13                 1       1                       2   \n",
       "658                     0                 2       1                       2   \n",
       "659                    12                 0       3                       0   \n",
       "660                    13                 0       8                       0   \n",
       "661                    13                 0       8                       0   \n",
       "\n",
       "     cordova.file  navigator.geolocation  cordova.InAppBrowser  Media  \\\n",
       "0               5                      8                     0      1   \n",
       "1               1                      1                     0     94   \n",
       "2               8                      1                     0     94   \n",
       "3               7                      4                     0     98   \n",
       "4               5                      8                     0      1   \n",
       "..            ...                    ...                   ...    ...   \n",
       "657             8                      1                     0     94   \n",
       "658             5                      1                     0     12   \n",
       "659             6                      0                     0     74   \n",
       "660             8                      0                     0     98   \n",
       "661             7                      0                     0      1   \n",
       "\n",
       "     navigator.device.capture  navigator.connection  screen.orientation  \\\n",
       "0                           2                     5                  16   \n",
       "1                           1                     5                  15   \n",
       "2                           1                    11                   2   \n",
       "3                           0                     1                   0   \n",
       "4                           2                     5                  16   \n",
       "..                        ...                   ...                 ...   \n",
       "657                         1                    11                  13   \n",
       "658                         2                     0                   5   \n",
       "659                         0                     1                   0   \n",
       "660                         0                     5                   2   \n",
       "661                         0                     2                   1   \n",
       "\n",
       "     navigator.splashscreen  StatusBar  navigator.vibrate  \n",
       "0                         0          0                  0  \n",
       "1                         1          0                  0  \n",
       "2                         1          0                  0  \n",
       "3                         0          0                  0  \n",
       "4                         0          0                  0  \n",
       "..                      ...        ...                ...  \n",
       "657                       1          0                  0  \n",
       "658                       0          0                  0  \n",
       "659                       0          0                  0  \n",
       "660                       0          0                  0  \n",
       "661                       0          0                  0  \n",
       "\n",
       "[662 rows x 14 columns]"
      ]
     },
     "execution_count": 8,
     "metadata": {},
     "output_type": "execute_result"
    }
   ],
   "source": [
    "df_plugins_only = df_api.drop(columns=[\"apk_name\"])\n",
    "df_plugins_only"
   ]
  },
  {
   "cell_type": "markdown",
   "id": "whole-importance",
   "metadata": {},
   "source": [
    "## Heatpmap"
   ]
  },
  {
   "cell_type": "code",
   "execution_count": 9,
   "id": "confident-cameroon",
   "metadata": {
    "ExecuteTime": {
     "end_time": "2021-03-09T03:55:06.541747Z",
     "start_time": "2021-03-09T03:55:05.241378Z"
    }
   },
   "outputs": [
    {
     "data": {
      "image/png": "[encoded data removed]",
      "text/plain": [
       "<Figure size 432x288 with 2 Axes>"
      ]
     },
     "metadata": {
      "needs_background": "light"
     },
     "output_type": "display_data"
    }
   ],
   "source": [
    "import seaborn as sns\n",
    "df_plugins_only_T = df_plugins_only.T    # transpose\n",
    "ax = sns.heatmap(df_plugins_only_T)"
   ]
  },
  {
   "cell_type": "code",
   "execution_count": 10,
   "id": "cultural-strength",
   "metadata": {
    "ExecuteTime": {
     "end_time": "2021-03-09T03:55:06.951227Z",
     "start_time": "2021-03-09T03:55:06.543329Z"
    }
   },
   "outputs": [
    {
     "data": {
      "image/png": "[encoded data removed]",
      "text/plain": [
       "<Figure size 432x288 with 2 Axes>"
      ]
     },
     "metadata": {
      "needs_background": "light"
     },
     "output_type": "display_data"
    }
   ],
   "source": [
    "# select a set of apks, originial\n",
    "set_num = 20\n",
    "ax = sns.heatmap(df_plugins_only_T.iloc[:, :set_num])\n"
   ]
  },
  {
   "cell_type": "code",
   "execution_count": 11,
   "id": "different-convert",
   "metadata": {
    "ExecuteTime": {
     "end_time": "2021-03-09T03:55:08.597196Z",
     "start_time": "2021-03-09T03:55:06.953004Z"
    }
   },
   "outputs": [
    {
     "data": {
      "image/png": "[encoded data removed]",
      "text/plain": [
       "<Figure size 432x288 with 2 Axes>"
      ]
     },
     "metadata": {
      "needs_background": "light"
     },
     "output_type": "display_data"
    }
   ],
   "source": [
    "# select a set of apks, heatmap with annotation\n",
    "set_num = 20\n",
    "ax = sns.heatmap(df_plugins_only_T.iloc[:, :set_num], annot=True)"
   ]
  },
  {
   "cell_type": "markdown",
   "id": "assumed-macedonia",
   "metadata": {},
   "source": [
    "## heatmap without media and device"
   ]
  },
  {
   "cell_type": "code",
   "execution_count": 12,
   "id": "capable-validity",
   "metadata": {
    "ExecuteTime": {
     "end_time": "2021-03-09T03:55:10.024128Z",
     "start_time": "2021-03-09T03:55:08.599144Z"
    }
   },
   "outputs": [
    {
     "data": {
      "image/png": "[encoded data removed]",
      "text/plain": [
       "<Figure size 432x288 with 2 Axes>"
      ]
     },
     "metadata": {
      "needs_background": "light"
     },
     "output_type": "display_data"
    }
   ],
   "source": [
    "\n",
    "df_plugins_media = df_api.drop(columns=[\"apk_name\", \"Media\", \"device\"])\n",
    "df_plugins_media_T = df_plugins_media.T\n",
    "# select a set of apks, heatmap with annotation\n",
    "set_num = 20\n",
    "ax = sns.heatmap(df_plugins_media_T.iloc[:, :set_num], annot=True)"
   ]
  },
  {
   "cell_type": "code",
   "execution_count": null,
   "id": "middle-motorcycle",
   "metadata": {
    "ExecuteTime": {
     "end_time": "2021-03-04T06:12:24.345538Z",
     "start_time": "2021-03-04T06:12:24.189346Z"
    }
   },
   "outputs": [],
   "source": []
  },
  {
   "cell_type": "code",
   "execution_count": null,
   "id": "olive-history",
   "metadata": {},
   "outputs": [],
   "source": []
  },
  {
   "cell_type": "code",
   "execution_count": null,
   "id": "extra-underwear",
   "metadata": {},
   "outputs": [],
   "source": []
  },
  {
   "cell_type": "code",
   "execution_count": null,
   "id": "tropical-cooper",
   "metadata": {},
   "outputs": [],
   "source": []
  },
  {
   "cell_type": "code",
   "execution_count": null,
   "id": "mysterious-indian",
   "metadata": {},
   "outputs": [],
   "source": []
  },
  {
   "cell_type": "code",
   "execution_count": null,
   "id": "bright-christianity",
   "metadata": {},
   "outputs": [],
   "source": []
  },
  {
   "cell_type": "code",
   "execution_count": null,
   "id": "central-fitness",
   "metadata": {},
   "outputs": [],
   "source": []
  },
  {
   "cell_type": "code",
   "execution_count": null,
   "id": "automated-franchise",
   "metadata": {},
   "outputs": [],
   "source": []
  },
  {
   "cell_type": "code",
   "execution_count": null,
   "id": "tropical-simulation",
   "metadata": {},
   "outputs": [],
   "source": []
  }
 ],
 "metadata": {
  "kernelspec": {
   "display_name": "Python 3",
   "language": "python",
   "name": "python3"
  },
  "language_info": {
   "codemirror_mode": {
    "name": "ipython",
    "version": 3
   },
   "file_extension": ".py",
   "mimetype": "text/x-python",
   "name": "python",
   "nbconvert_exporter": "python",
   "pygments_lexer": "ipython3",
   "version": "3.8.2"
  },
  "toc": {
   "base_numbering": 1,
   "nav_menu": {},
   "number_sections": true,
   "sideBar": true,
   "skip_h1_title": false,
   "title_cell": "Table of Contents",
   "title_sidebar": "Contents",
   "toc_cell": false,
   "toc_position": {},
   "toc_section_display": true,
   "toc_window_display": false
  }
 },
 "nbformat": 4,
 "nbformat_minor": 5
}
